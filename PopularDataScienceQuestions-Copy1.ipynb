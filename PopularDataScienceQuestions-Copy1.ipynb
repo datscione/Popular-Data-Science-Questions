{
 "cells": [
  {
   "cell_type": "markdown",
   "metadata": {},
   "source": [
    "Stack Exchange contains questions and answers that can be up or downvoted. The sites datascience.stackexchange and Stack Overflow look useful for our data science goals. We will use this information to determine what types of data science questions are popular. "
   ]
  },
  {
   "cell_type": "markdown",
   "metadata": {},
   "source": [
    "The tables with the highest number of tag counts would be more promising towards finding the most popular content. The include tags for machine learning and building models. Also Posts, Tags, AnswerCount, CommentCount, FavoriteCount, UpVotes, and PostTags."
   ]
  },
  {
   "cell_type": "code",
   "execution_count": 1,
   "metadata": {
    "collapsed": false,
    "scrolled": true
   },
   "outputs": [],
   "source": [
    "#SELECT Id,\n",
    " #      CreationDate, \n",
    "  #     Score, \n",
    "   #    ViewCount, \n",
    "    #   Tags, \n",
    "     #  AnswerCount, \n",
    "      # FavoriteCount\n",
    "#FROM Posts\n",
    "#WHERE PostTypeID = 1 AND YEAR(CreationDate) = 2019;"
   ]
  },
  {
   "cell_type": "code",
   "execution_count": 2,
   "metadata": {
    "collapsed": false
   },
   "outputs": [],
   "source": [
    "import pandas as pd\n",
    "import matplotlib.pyplot as plt\n",
    "import seaborn as sns\n",
    "\n",
    "%matplotlib inline"
   ]
  },
  {
   "cell_type": "code",
   "execution_count": 3,
   "metadata": {
    "collapsed": true
   },
   "outputs": [],
   "source": [
    "questions = pd.read_csv(\"2019_questions.csv\", parse_dates = [\"CreationDate\"])"
   ]
  },
  {
   "cell_type": "code",
   "execution_count": 4,
   "metadata": {
    "collapsed": false
   },
   "outputs": [
    {
     "data": {
      "text/html": [
       "<div>\n",
       "<style scoped>\n",
       "    .dataframe tbody tr th:only-of-type {\n",
       "        vertical-align: middle;\n",
       "    }\n",
       "\n",
       "    .dataframe tbody tr th {\n",
       "        vertical-align: top;\n",
       "    }\n",
       "\n",
       "    .dataframe thead th {\n",
       "        text-align: right;\n",
       "    }\n",
       "</style>\n",
       "<table border=\"1\" class=\"dataframe\">\n",
       "  <thead>\n",
       "    <tr style=\"text-align: right;\">\n",
       "      <th></th>\n",
       "      <th>Id</th>\n",
       "      <th>CreationDate</th>\n",
       "      <th>Score</th>\n",
       "      <th>ViewCount</th>\n",
       "      <th>Tags</th>\n",
       "      <th>AnswerCount</th>\n",
       "      <th>FavoriteCount</th>\n",
       "    </tr>\n",
       "  </thead>\n",
       "  <tbody>\n",
       "    <tr>\n",
       "      <th>0</th>\n",
       "      <td>44419</td>\n",
       "      <td>2019-01-23 09:21:13</td>\n",
       "      <td>1</td>\n",
       "      <td>21</td>\n",
       "      <td>&lt;machine-learning&gt;&lt;data-mining&gt;</td>\n",
       "      <td>0</td>\n",
       "      <td>NaN</td>\n",
       "    </tr>\n",
       "    <tr>\n",
       "      <th>1</th>\n",
       "      <td>44420</td>\n",
       "      <td>2019-01-23 09:34:01</td>\n",
       "      <td>0</td>\n",
       "      <td>25</td>\n",
       "      <td>&lt;machine-learning&gt;&lt;regression&gt;&lt;linear-regressi...</td>\n",
       "      <td>0</td>\n",
       "      <td>NaN</td>\n",
       "    </tr>\n",
       "    <tr>\n",
       "      <th>2</th>\n",
       "      <td>44423</td>\n",
       "      <td>2019-01-23 09:58:41</td>\n",
       "      <td>2</td>\n",
       "      <td>1651</td>\n",
       "      <td>&lt;python&gt;&lt;time-series&gt;&lt;forecast&gt;&lt;forecasting&gt;</td>\n",
       "      <td>0</td>\n",
       "      <td>NaN</td>\n",
       "    </tr>\n",
       "    <tr>\n",
       "      <th>3</th>\n",
       "      <td>44427</td>\n",
       "      <td>2019-01-23 10:57:09</td>\n",
       "      <td>0</td>\n",
       "      <td>55</td>\n",
       "      <td>&lt;machine-learning&gt;&lt;scikit-learn&gt;&lt;pca&gt;</td>\n",
       "      <td>1</td>\n",
       "      <td>NaN</td>\n",
       "    </tr>\n",
       "    <tr>\n",
       "      <th>4</th>\n",
       "      <td>44428</td>\n",
       "      <td>2019-01-23 11:02:15</td>\n",
       "      <td>0</td>\n",
       "      <td>19</td>\n",
       "      <td>&lt;dataset&gt;&lt;bigdata&gt;&lt;data&gt;&lt;speech-to-text&gt;</td>\n",
       "      <td>0</td>\n",
       "      <td>NaN</td>\n",
       "    </tr>\n",
       "  </tbody>\n",
       "</table>\n",
       "</div>"
      ],
      "text/plain": [
       "      Id        CreationDate  Score  ViewCount  \\\n",
       "0  44419 2019-01-23 09:21:13      1         21   \n",
       "1  44420 2019-01-23 09:34:01      0         25   \n",
       "2  44423 2019-01-23 09:58:41      2       1651   \n",
       "3  44427 2019-01-23 10:57:09      0         55   \n",
       "4  44428 2019-01-23 11:02:15      0         19   \n",
       "\n",
       "                                                Tags  AnswerCount  \\\n",
       "0                    <machine-learning><data-mining>            0   \n",
       "1  <machine-learning><regression><linear-regressi...            0   \n",
       "2       <python><time-series><forecast><forecasting>            0   \n",
       "3              <machine-learning><scikit-learn><pca>            1   \n",
       "4           <dataset><bigdata><data><speech-to-text>            0   \n",
       "\n",
       "   FavoriteCount  \n",
       "0            NaN  \n",
       "1            NaN  \n",
       "2            NaN  \n",
       "3            NaN  \n",
       "4            NaN  "
      ]
     },
     "execution_count": 4,
     "metadata": {},
     "output_type": "execute_result"
    }
   ],
   "source": [
    "questions.head()"
   ]
  },
  {
   "cell_type": "code",
   "execution_count": 5,
   "metadata": {
    "collapsed": false
   },
   "outputs": [
    {
     "name": "stdout",
     "output_type": "stream",
     "text": [
      "<class 'pandas.core.frame.DataFrame'>\n",
      "RangeIndex: 8839 entries, 0 to 8838\n",
      "Data columns (total 7 columns):\n",
      "Id               8839 non-null int64\n",
      "CreationDate     8839 non-null datetime64[ns]\n",
      "Score            8839 non-null int64\n",
      "ViewCount        8839 non-null int64\n",
      "Tags             8839 non-null object\n",
      "AnswerCount      8839 non-null int64\n",
      "FavoriteCount    1407 non-null float64\n",
      "dtypes: datetime64[ns](1), float64(1), int64(4), object(1)\n",
      "memory usage: 483.5+ KB\n"
     ]
    }
   ],
   "source": [
    "questions.info()"
   ]
  },
  {
   "cell_type": "markdown",
   "metadata": {},
   "source": [
    "FavoriteCount is missing values. In order to get them, we'd have to look at 7400 questions. This is not practical. Also, it should be an integer, not a float. The types of the remaining columns are reasonable. In Tags it would be helpful to remove the <> and study the most common tags."
   ]
  },
  {
   "cell_type": "code",
   "execution_count": 6,
   "metadata": {
    "collapsed": false
   },
   "outputs": [
    {
     "data": {
      "text/plain": [
       "Id                  0\n",
       "CreationDate        0\n",
       "Score               0\n",
       "ViewCount           0\n",
       "Tags                0\n",
       "AnswerCount         0\n",
       "FavoriteCount    7432\n",
       "dtype: int64"
      ]
     },
     "execution_count": 6,
     "metadata": {},
     "output_type": "execute_result"
    }
   ],
   "source": [
    "questions.isnull().sum()"
   ]
  },
  {
   "cell_type": "markdown",
   "metadata": {},
   "source": [
    "The above confirms that FavoriteCount has 7432 missing values."
   ]
  },
  {
   "cell_type": "code",
   "execution_count": 7,
   "metadata": {
    "collapsed": false
   },
   "outputs": [],
   "source": [
    "questions = questions.fillna(0)"
   ]
  },
  {
   "cell_type": "code",
   "execution_count": 8,
   "metadata": {
    "collapsed": false
   },
   "outputs": [
    {
     "data": {
      "text/plain": [
       "Id               0\n",
       "CreationDate     0\n",
       "Score            0\n",
       "ViewCount        0\n",
       "Tags             0\n",
       "AnswerCount      0\n",
       "FavoriteCount    0\n",
       "dtype: int64"
      ]
     },
     "execution_count": 8,
     "metadata": {},
     "output_type": "execute_result"
    }
   ],
   "source": [
    "questions.isnull().sum()"
   ]
  },
  {
   "cell_type": "markdown",
   "metadata": {},
   "source": [
    "We have just replaced the null (\"NaN\") missing FavoriteCount values with 0. Now we will change the data type for this column to an integer."
   ]
  },
  {
   "cell_type": "code",
   "execution_count": 9,
   "metadata": {
    "collapsed": true
   },
   "outputs": [],
   "source": [
    "questions['FavoriteCount'] = questions['FavoriteCount'].astype(int)"
   ]
  },
  {
   "cell_type": "code",
   "execution_count": 10,
   "metadata": {
    "collapsed": false
   },
   "outputs": [
    {
     "name": "stdout",
     "output_type": "stream",
     "text": [
      "<class 'pandas.core.frame.DataFrame'>\n",
      "RangeIndex: 8839 entries, 0 to 8838\n",
      "Data columns (total 7 columns):\n",
      "Id               8839 non-null int64\n",
      "CreationDate     8839 non-null datetime64[ns]\n",
      "Score            8839 non-null int64\n",
      "ViewCount        8839 non-null int64\n",
      "Tags             8839 non-null object\n",
      "AnswerCount      8839 non-null int64\n",
      "FavoriteCount    8839 non-null int64\n",
      "dtypes: datetime64[ns](1), int64(5), object(1)\n",
      "memory usage: 483.5+ KB\n"
     ]
    }
   ],
   "source": [
    "questions.info()"
   ]
  },
  {
   "cell_type": "code",
   "execution_count": 11,
   "metadata": {
    "collapsed": false
   },
   "outputs": [
    {
     "data": {
      "text/plain": [
       "0                      <machine-learning><data-mining>\n",
       "1    <machine-learning><regression><linear-regressi...\n",
       "2         <python><time-series><forecast><forecasting>\n",
       "3                <machine-learning><scikit-learn><pca>\n",
       "4             <dataset><bigdata><data><speech-to-text>\n",
       "Name: Tags, dtype: object"
      ]
     },
     "execution_count": 11,
     "metadata": {},
     "output_type": "execute_result"
    }
   ],
   "source": [
    "questions['Tags'].head(5)"
   ]
  },
  {
   "cell_type": "code",
   "execution_count": 12,
   "metadata": {
    "collapsed": false
   },
   "outputs": [
    {
     "data": {
      "text/plain": [
       "0                        machine-learning><data-mining\n",
       "1    machine-learning><regression><linear-regressio...\n",
       "2           python><time-series><forecast><forecasting\n",
       "3                  machine-learning><scikit-learn><pca\n",
       "4               dataset><bigdata><data><speech-to-text\n",
       "Name: Tags, dtype: object"
      ]
     },
     "execution_count": 12,
     "metadata": {},
     "output_type": "execute_result"
    }
   ],
   "source": [
    "questions['Tags'] = questions['Tags'].str.replace(\"^<|>$\", \"\")\n",
    "questions['Tags'].head(5)"
   ]
  },
  {
   "cell_type": "code",
   "execution_count": 13,
   "metadata": {
    "collapsed": false
   },
   "outputs": [
    {
     "data": {
      "text/plain": [
       "0                      [machine-learning, data-mining]\n",
       "1    [machine-learning, regression, linear-regressi...\n",
       "2         [python, time-series, forecast, forecasting]\n",
       "3                [machine-learning, scikit-learn, pca]\n",
       "4             [dataset, bigdata, data, speech-to-text]\n",
       "Name: Tags, dtype: object"
      ]
     },
     "execution_count": 13,
     "metadata": {},
     "output_type": "execute_result"
    }
   ],
   "source": [
    "questions['Tags'] = questions['Tags'].str.split(\"><\")\n",
    "questions['Tags'].head(5)"
   ]
  },
  {
   "cell_type": "code",
   "execution_count": 14,
   "metadata": {
    "collapsed": false,
    "scrolled": true
   },
   "outputs": [
    {
     "data": {
      "text/html": [
       "<div>\n",
       "<style scoped>\n",
       "    .dataframe tbody tr th:only-of-type {\n",
       "        vertical-align: middle;\n",
       "    }\n",
       "\n",
       "    .dataframe tbody tr th {\n",
       "        vertical-align: top;\n",
       "    }\n",
       "\n",
       "    .dataframe thead th {\n",
       "        text-align: right;\n",
       "    }\n",
       "</style>\n",
       "<table border=\"1\" class=\"dataframe\">\n",
       "  <thead>\n",
       "    <tr style=\"text-align: right;\">\n",
       "      <th></th>\n",
       "      <th>Id</th>\n",
       "      <th>CreationDate</th>\n",
       "      <th>Score</th>\n",
       "      <th>ViewCount</th>\n",
       "      <th>Tags</th>\n",
       "      <th>AnswerCount</th>\n",
       "      <th>FavoriteCount</th>\n",
       "    </tr>\n",
       "  </thead>\n",
       "  <tbody>\n",
       "    <tr>\n",
       "      <th>0</th>\n",
       "      <td>44419</td>\n",
       "      <td>2019-01-23 09:21:13</td>\n",
       "      <td>1</td>\n",
       "      <td>21</td>\n",
       "      <td>[machine-learning, data-mining]</td>\n",
       "      <td>0</td>\n",
       "      <td>0</td>\n",
       "    </tr>\n",
       "    <tr>\n",
       "      <th>1</th>\n",
       "      <td>44420</td>\n",
       "      <td>2019-01-23 09:34:01</td>\n",
       "      <td>0</td>\n",
       "      <td>25</td>\n",
       "      <td>[machine-learning, regression, linear-regressi...</td>\n",
       "      <td>0</td>\n",
       "      <td>0</td>\n",
       "    </tr>\n",
       "    <tr>\n",
       "      <th>2</th>\n",
       "      <td>44423</td>\n",
       "      <td>2019-01-23 09:58:41</td>\n",
       "      <td>2</td>\n",
       "      <td>1651</td>\n",
       "      <td>[python, time-series, forecast, forecasting]</td>\n",
       "      <td>0</td>\n",
       "      <td>0</td>\n",
       "    </tr>\n",
       "  </tbody>\n",
       "</table>\n",
       "</div>"
      ],
      "text/plain": [
       "      Id        CreationDate  Score  ViewCount  \\\n",
       "0  44419 2019-01-23 09:21:13      1         21   \n",
       "1  44420 2019-01-23 09:34:01      0         25   \n",
       "2  44423 2019-01-23 09:58:41      2       1651   \n",
       "\n",
       "                                                Tags  AnswerCount  \\\n",
       "0                    [machine-learning, data-mining]            0   \n",
       "1  [machine-learning, regression, linear-regressi...            0   \n",
       "2       [python, time-series, forecast, forecasting]            0   \n",
       "\n",
       "   FavoriteCount  \n",
       "0              0  \n",
       "1              0  \n",
       "2              0  "
      ]
     },
     "execution_count": 14,
     "metadata": {},
     "output_type": "execute_result"
    }
   ],
   "source": [
    "questions.head(3)"
   ]
  },
  {
   "cell_type": "code",
   "execution_count": 15,
   "metadata": {
    "collapsed": false
   },
   "outputs": [
    {
     "name": "stdout",
     "output_type": "stream",
     "text": [
      "{'pathfinder': 1, 'siamese-networks': 4, 'smotenc': 4, 'multi-instance-learning': 2, 'deep-learning': 1220, 'time-series': 466, 'transfer-learning': 69, 'labels': 28, 'ml': 7, 'text-mining': 113, 'noisification': 1, 'openai-gym': 17, 'activation': 1, 'normal-equation': 1, 'neural': 16, 'c++': 1, 'image-preprocessing': 67, 'pytorch': 175, 'keras-rl': 6, 'dynamic-programming': 3, 'scikit-learn': 540, 'bayesian': 40, 'kendalls-tau-coefficient': 1, 'automl': 2, 'nn': 1, 'graphs': 47, 'opencv': 39, 'evolutionary-algorithms': 11, 'java': 14, 'annotation': 12, 'causalimpact': 2, '3d-reconstruction': 9, 'sematic-similarity': 2, 'class-imbalance': 73, 'glm': 3, 'sensors': 5, 'optimization': 124, 'dataframe': 81, 'seaborn': 38, 'word2vec': 88, 'dqn': 36, '3d-object-detection': 1, 'unsupervised-learning': 110, 'dropout': 15, 'gaussian': 20, 'hog': 1, 'matlab': 62, 'theano': 4, 'metric': 60, 'dataset': 340, 'career': 9, 'ibm-watson': 1, 'naive-bayes-classifier': 42, 'state-of-the-art': 1, 'spss': 2, 'ggplot2': 3, 'experiments': 3, 'ipython': 18, 'sampling': 38, 'forecasting': 85, 'parameter': 5, 'feature-engineering': 163, 'vgg16': 21, 'supervised-learning': 82, 'bigdata': 95, 'implementation': 9, 'bayesian-networks': 12, 'probability': 76, 'feature-scaling': 59, 'sparsity': 2, 'categories': 2, 'autoencoder': 106, 'definitions': 4, 'corpus': 1, 'apache-nifi': 1, 'rmsle': 1, 'project-planning': 6, 'k-nn': 50, 'python-3.x': 13, 'named-entity-recognition': 36, 'pca': 85, 'scoring': 12, 'vae': 14, 'object-recognition': 14, 'auc': 3, 'pyspark': 40, 'anova': 2, 'alex-net': 5, 'parallel': 8, 'refit-model': 1, 'finite-precision': 2, 'label-flipping': 1, 'outlier': 48, 'game': 7, 'k-means': 81, 'library': 2, 'dbscan': 18, 'history': 1, 'similar-documents': 20, 'google': 17, 'least-squares-svm': 1, 'processing': 5, 'q-learning': 37, 'h2o': 4, 'coursera': 3, 'discriminant-analysis': 5, 'networkx': 2, 'evaluation': 66, 'yolo': 21, 'ann': 2, 'attention-mechanism': 26, 'theory': 11, 'azure-ml': 12, 'automatic-summarization': 10, 'anomaly-detection': 92, 'relational-dbms': 7, 'topic-model': 31, 'multilabel-classification': 92, 'hinge-loss': 7, 'lbp': 2, 'forecast': 34, 'question-answering': 4, 'svr': 5, 'manhattan': 3, 'math': 37, 'software-development': 2, 'tokenization': 6, 'prediction': 128, 'data-imputation': 16, 'gensim': 36, 'distribution': 57, 'one-shot-learning': 2, 'stemming': 2, 'rbm': 4, 'objective-function': 4, 'performance': 27, 'reinforcement-learning': 203, 'mnist': 23, 'normalization': 74, 'grid-search': 35, 'sports': 3, 'cost-function': 25, 'python': 1814, 'education': 3, 'google-cloud': 1, 'survival-analysis': 10, 'data-indexing-techniques': 1, 'bayes-error': 1, 'bioinformatics': 4, 'domain-adaptation': 3, '.net': 1, 'activity-recognition': 5, 'json': 10, 'ensemble-modeling': 30, 'notation': 4, 'competitions': 2, 'bert': 64, 'heatmap': 9, 'text-generation': 17, 'programming': 7, 'pearsons-correlation-coefficient': 2, 'aws': 20, 'ensemble': 7, 'markov-hidden-model': 13, 'r': 268, 'huggingface': 2, 'infographics': 2, 'image-segmentation': 3, 'error-handling': 17, 'unbalanced-classes': 42, 'numerical': 6, 'aws-lambda': 2, 'dialog-flow': 2, 'kernel': 27, 'sequential-pattern-mining': 17, 'efficiency': 2, 'word-embeddings': 117, 'pattern-recognition': 1, 'kaggle': 43, 'regression': 347, 'tableau': 9, 'linear-algebra': 24, 'epochs': 11, 'groupby': 2, 'predictor-importance': 9, 'probabilistic-programming': 9, 'ranking': 22, 'automation': 4, 'xboost': 1, 'ocr': 26, 'open-set': 2, 'cnn': 489, 'kitti-dataset': 1, 'wolfram-language': 3, 'data-leakage': 8, 'image': 32, 'gradient-descent': 98, 'churn': 15, 'object-detection': 109, 'numpy': 117, 'batch-normalization': 29, 'historgram': 7, 'image-classification': 211, 'databases': 29, 'speech-to-text': 8, 'search-engine': 4, 'pytorch-geometric': 2, 'neural-style-transfer': 8, 'image-recognition': 86, 'momentum': 3, 'natural-language-process': 124, 'ndcg': 5, 'clusters': 10, 'multitask-learning': 7, 'score': 14, 'version-control': 1, 'machine-translation': 28, 'stacked-lstm': 7, 'data-stream-mining': 4, 'mathematics': 17, 'rnn': 149, 'faster-rcnn': 38, 'rstudio': 15, 'descriptive-statistics': 21, 'amazon-ml': 1, 'gan': 85, 'sentiment-analysis': 37, 'finetuning': 7, 'management': 2, 'feature-selection': 209, 'dump': 1, 'data-formats': 9, 'feature-map': 2, 'pip': 4, 'convnet': 111, 'language-model': 25, 'anomaly': 4, 'visualization': 126, 'convolution': 103, 'inception': 10, 'etl': 6, 'genetic-programming': 2, 'bayesian-nonparametric': 2, 'markov': 4, 'difference': 5, 'boosting': 49, 'computer-vision': 121, 'structured-data': 5, 'hyperparameter': 42, 'xgboost': 165, 'rbf': 5, 'training': 148, 'software-recommendation': 4, 'privacy': 6, 'methods': 4, 'lda-classifier': 1, 'probability-calibration': 11, 'genetic-algorithms': 16, 'mean-shift': 2, 'accuracy': 89, 'data-mining': 217, 'bias': 19, 'weka': 19, 'matrix-factorisation': 24, 'doc2vec': 3, 'serialisation': 3, 'random-forest': 159, 'gpu': 42, 'paperspace': 1, 'helmert-coding': 1, 'research': 11, 'explainable-ai': 10, 'unseen-data': 1, 'categorical-encoding': 3, 'multi-output': 7, 'loss-function': 161, 'consumerweb': 1, 'haar-cascade': 1, 'finance': 17, 'apache-hadoop': 13, 'james-stein-encoder': 1, 'lightgbm': 23, 'self-driving': 3, 'classifier': 18, 'csv': 27, 'cloud-computing': 9, 'learning-rate': 8, 'sagemaker': 8, 'nlp': 493, 'impala': 1, 'fastai': 6, 'feature-extraction': 87, 'correlation': 80, 'pipelines': 17, 'beginner': 27, 'lstm': 402, 'sql': 29, 'chatbot': 14, 'counter-inference': 1, 'dimensionality-reduction': 69, 'logistic-regression': 154, 'estimators': 8, 'movielens': 2, 'data-transfer': 1, 'word': 2, 'inceptionresnetv2': 6, 'nl2sql': 1, 'interpolation': 6, 'reshape': 9, 'cause-effect-relations': 1, 'orange': 64, 'density-estimation': 3, 'gmm': 2, 'data.table': 4, 'learning-to-rank': 6, 'expectation-maximization': 5, 'label-smoothing': 1, 'neural-network': 1055, 'mse': 8, 'dplyr': 6, 'similarity': 72, 'tesseract': 3, 'twitter': 8, 'transformer': 45, 'model-selection': 58, 'audio-recognition': 25, 'cosine-distance': 21, 'data-augmentation': 24, 'perceptron': 26, 'wikipedia': 1, 'knime': 1, 'tensorflow': 584, 'dirichlet': 4, 'encoder': 1, 'powerbi': 10, 'vc-theory': 5, 'nosql': 3, 'dummy-variables': 19, 'julia': 2, 'map-reduce': 3, 'pac-learning': 6, 'backpropagation': 65, 'tools': 8, 'features': 32, 'search': 5, 'active-learning': 4, 'market-basket-analysis': 12, 'convergence': 17, 'vector-space-models': 7, 'parquet': 1, 'mlp': 34, 'overfitting': 69, 'indexing': 6, 'text-classification': 1, 'libsvm': 1, 'data': 213, 'gaussian-process': 12, 'marginal-effects': 1, 'statistics': 234, 'sas': 6, 'discounted-reward': 5, 'mini-batch-gradient-descent': 10, 'tfidf': 31, 'manifold': 1, 'text': 41, 'colab': 18, 'anonymization': 3, 'feature-construction': 16, 'torch': 4, 'data-cleaning': 157, 'non-convex': 1, 'pandas': 354, 'stanford-nlp': 9, 'algorithms': 68, 'feature-reduction': 4, 'hardware': 12, 'time': 5, 'machine-learning-model': 224, 'nltk': 43, 'orange3': 20, 'octave': 4, 'predict': 3, 'embeddings': 44, 'data-wrangling': 15, 'svm': 136, 'fuzzy-logic': 13, 'linear-regression': 175, 'metadata': 2, 'reference-request': 18, 'predictive-modeling': 265, 'data-product': 3, 'cloud': 6, 'hyperparameter-tuning': 59, 'representation': 9, 'variance': 35, 'ridge-regression': 7, 'adaboost': 1, 'gridsearchcv': 28, 'books': 7, 'ai': 25, 'sequence': 25, 'redshift': 1, 'apache-spark': 35, 'online-learning': 13, 'information-retrieval': 32, 'hurdle-model': 1, 'spacy': 20, 'semi-supervised-learning': 18, 'community': 1, 'information-theory': 9, 'terminology': 16, 'distributed': 7, 'softmax': 24, 'clustering': 257, 'pruning': 3, 'keras': 935, 'noise': 17, 'binary': 26, 'meta-learning': 3, 'deepmind': 7, 'multivariate-distribution': 1, 'mcmc': 4, 'lda': 27, 'actor-critic': 21, 'text-filter': 2, 'tsne': 15, 'aggregation': 12, 'association-rules': 19, 'monte-carlo': 15, 'distance': 44, 'crawling': 3, 'policy-gradients': 27, 'mutual-information': 5, 'self-study': 8, 'jaccard-coefficient': 4, 'pickle': 9, 'open-source': 1, 'frequentist': 1, 'marketing': 6, 'spearmans-rank-correlation': 1, 'caffe': 7, 'c': 4, 'mongodb': 2, 'anaconda': 20, 'social-network-analysis': 11, 'sequence-to-sequence': 35, 'allennlp': 2, 'javascript': 8, 'usecase': 2, 'classification': 685, 'ab-test': 6, 'lasso': 8, 'confusion-matrix': 27, 'weighted-data': 14, 'hive': 2, 'multiclass-classification': 131, 'gbm': 10, 'exploitation': 1, 'counts': 3, 'openai-gpt': 2, 'code': 5, 'preprocessing': 120, 'goss': 1, 'categorical-data': 81, 'recommender-system': 103, 'plotting': 32, 'nlg': 9, 'one-hot-encoding': 4, 'rdkit': 1, 'generative-models': 46, 'collinearity': 6, 'image-size': 6, 'learning': 10, 'decision-trees': 145, 'graphical-model': 3, 'machine-learning': 2693, 'scipy': 40, 'parsing': 3, 'homework': 4, 'scraping': 5, 'google-prediction-api': 2, 'siamese': 1, 'pgm': 1, 'rmse': 1, 'data-science-model': 186, 'regex': 8, 'scala': 9, 'spyder': 1, 'linux': 5, 'arima': 11, 'generalization': 12, 'simulation': 11, 'summarunner-architecture': 1, 'gru': 1, 'proximal-svm': 1, 'non-parametric': 3, 'recurrent-neural-net': 91, 'fuzzy-classification': 3, 'parameter-estimation': 6, 'statsmodels': 1, 'encoding': 54, 'markov-process': 14, 'randomized-algorithms': 6, 'ngrams': 7, 'smote': 27, 'excel': 24, 'cross-validation': 139, 'weight-initialization': 12, 'web-scrapping': 8, 'data-analysis': 71, 'scalability': 4, 'matplotlib': 77, 'imbalanced-learn': 21, 'missing-data': 43, 'nvidia': 7, 'matrix': 22, 'ensemble-learning': 11, 'activation-function': 44, 'cs231n': 1, 'jupyter': 41, 'methodology': 10, 'geospatial': 27, 'deep-network': 29, 'pooling': 4, 'hierarchical-data-format': 7, 'regularization': 50}\n"
     ]
    }
   ],
   "source": [
    "num_tags = {}\n",
    "\n",
    "for tags in questions['Tags']:\n",
    "    for tag in tags:\n",
    "        if tag in num_tags:\n",
    "            num_tags[tag] += 1\n",
    "        else:\n",
    "            num_tags[tag] = 1\n",
    "print(num_tags)"
   ]
  },
  {
   "cell_type": "code",
   "execution_count": 16,
   "metadata": {
    "collapsed": false
   },
   "outputs": [
    {
     "name": "stdout",
     "output_type": "stream",
     "text": [
      "                            0\n",
      "pathfinder                  1\n",
      "siamese-networks            4\n",
      "smotenc                     4\n",
      "multi-instance-learning     2\n",
      "deep-learning            1220\n"
     ]
    }
   ],
   "source": [
    "no_of_tags = pd.DataFrame.from_dict(num_tags, orient='index')\n",
    "print(no_of_tags.head())"
   ]
  },
  {
   "cell_type": "code",
   "execution_count": 17,
   "metadata": {
    "collapsed": false
   },
   "outputs": [
    {
     "name": "stdout",
     "output_type": "stream",
     "text": [
      "                            Times Tag Used\n",
      "pathfinder                               1\n",
      "kitti-dataset                            1\n",
      "multivariate-distribution                1\n",
      "community                                1\n",
      "state-of-the-art                         1\n",
      "spyder                                   1\n",
      "ibm-watson                               1\n",
      "goss                                     1\n",
      "hurdle-model                             1\n",
      "redshift                                 1\n",
      "amazon-ml                                1\n",
      "adaboost                                 1\n",
      "hog                                      1\n",
      "dump                                     1\n",
      "summarunner-architecture                 1\n",
      "3d-object-detection                      1\n",
      "xboost                                   1\n",
      "rmse                                     1\n",
      "pgm                                      1\n",
      "siamese                                  1\n",
      "history                                  1\n",
      "exploitation                             1\n",
      "rdkit                                    1\n",
      "label-flipping                           1\n",
      "refit-model                              1\n",
      "spearmans-rank-correlation               1\n",
      "google-cloud                             1\n",
      "gru                                      1\n",
      "data-indexing-techniques                 1\n",
      ".net                                     1\n",
      "...                                    ...\n",
      "feature-engineering                    163\n",
      "xgboost                                165\n",
      "pytorch                                175\n",
      "linear-regression                      175\n",
      "data-science-model                     186\n",
      "reinforcement-learning                 203\n",
      "feature-selection                      209\n",
      "image-classification                   211\n",
      "data                                   213\n",
      "data-mining                            217\n",
      "machine-learning-model                 224\n",
      "statistics                             234\n",
      "clustering                             257\n",
      "predictive-modeling                    265\n",
      "r                                      268\n",
      "dataset                                340\n",
      "regression                             347\n",
      "pandas                                 354\n",
      "lstm                                   402\n",
      "time-series                            466\n",
      "cnn                                    489\n",
      "nlp                                    493\n",
      "scikit-learn                           540\n",
      "tensorflow                             584\n",
      "classification                         685\n",
      "keras                                  935\n",
      "neural-network                        1055\n",
      "deep-learning                         1220\n",
      "python                                1814\n",
      "machine-learning                      2693\n",
      "\n",
      "[526 rows x 1 columns]\n"
     ]
    }
   ],
   "source": [
    "times_tag_used = no_of_tags.sort_values([0])#times_tag_used is no_of_tags, \n",
    "                                            #I have just renamed it\n",
    "times_tag_used.rename(columns={0:\"Times Tag Used\"}, inplace=True)\n",
    "print(times_tag_used)                        "
   ]
  },
  {
   "cell_type": "code",
   "execution_count": 18,
   "metadata": {
    "collapsed": false
   },
   "outputs": [
    {
     "data": {
      "text/html": [
       "<div>\n",
       "<style scoped>\n",
       "    .dataframe tbody tr th:only-of-type {\n",
       "        vertical-align: middle;\n",
       "    }\n",
       "\n",
       "    .dataframe tbody tr th {\n",
       "        vertical-align: top;\n",
       "    }\n",
       "\n",
       "    .dataframe thead th {\n",
       "        text-align: right;\n",
       "    }\n",
       "</style>\n",
       "<table border=\"1\" class=\"dataframe\">\n",
       "  <thead>\n",
       "    <tr style=\"text-align: right;\">\n",
       "      <th></th>\n",
       "      <th>Times Tag Used</th>\n",
       "    </tr>\n",
       "  </thead>\n",
       "  <tbody>\n",
       "    <tr>\n",
       "      <th>machine-learning-model</th>\n",
       "      <td>224</td>\n",
       "    </tr>\n",
       "    <tr>\n",
       "      <th>statistics</th>\n",
       "      <td>234</td>\n",
       "    </tr>\n",
       "    <tr>\n",
       "      <th>clustering</th>\n",
       "      <td>257</td>\n",
       "    </tr>\n",
       "    <tr>\n",
       "      <th>predictive-modeling</th>\n",
       "      <td>265</td>\n",
       "    </tr>\n",
       "    <tr>\n",
       "      <th>r</th>\n",
       "      <td>268</td>\n",
       "    </tr>\n",
       "    <tr>\n",
       "      <th>dataset</th>\n",
       "      <td>340</td>\n",
       "    </tr>\n",
       "    <tr>\n",
       "      <th>regression</th>\n",
       "      <td>347</td>\n",
       "    </tr>\n",
       "    <tr>\n",
       "      <th>pandas</th>\n",
       "      <td>354</td>\n",
       "    </tr>\n",
       "    <tr>\n",
       "      <th>lstm</th>\n",
       "      <td>402</td>\n",
       "    </tr>\n",
       "    <tr>\n",
       "      <th>time-series</th>\n",
       "      <td>466</td>\n",
       "    </tr>\n",
       "    <tr>\n",
       "      <th>cnn</th>\n",
       "      <td>489</td>\n",
       "    </tr>\n",
       "    <tr>\n",
       "      <th>nlp</th>\n",
       "      <td>493</td>\n",
       "    </tr>\n",
       "    <tr>\n",
       "      <th>scikit-learn</th>\n",
       "      <td>540</td>\n",
       "    </tr>\n",
       "    <tr>\n",
       "      <th>tensorflow</th>\n",
       "      <td>584</td>\n",
       "    </tr>\n",
       "    <tr>\n",
       "      <th>classification</th>\n",
       "      <td>685</td>\n",
       "    </tr>\n",
       "    <tr>\n",
       "      <th>keras</th>\n",
       "      <td>935</td>\n",
       "    </tr>\n",
       "    <tr>\n",
       "      <th>neural-network</th>\n",
       "      <td>1055</td>\n",
       "    </tr>\n",
       "    <tr>\n",
       "      <th>deep-learning</th>\n",
       "      <td>1220</td>\n",
       "    </tr>\n",
       "    <tr>\n",
       "      <th>python</th>\n",
       "      <td>1814</td>\n",
       "    </tr>\n",
       "    <tr>\n",
       "      <th>machine-learning</th>\n",
       "      <td>2693</td>\n",
       "    </tr>\n",
       "  </tbody>\n",
       "</table>\n",
       "</div>"
      ],
      "text/plain": [
       "                        Times Tag Used\n",
       "machine-learning-model             224\n",
       "statistics                         234\n",
       "clustering                         257\n",
       "predictive-modeling                265\n",
       "r                                  268\n",
       "dataset                            340\n",
       "regression                         347\n",
       "pandas                             354\n",
       "lstm                               402\n",
       "time-series                        466\n",
       "cnn                                489\n",
       "nlp                                493\n",
       "scikit-learn                       540\n",
       "tensorflow                         584\n",
       "classification                     685\n",
       "keras                              935\n",
       "neural-network                    1055\n",
       "deep-learning                     1220\n",
       "python                            1814\n",
       "machine-learning                  2693"
      ]
     },
     "execution_count": 18,
     "metadata": {},
     "output_type": "execute_result"
    }
   ],
   "source": [
    "top_times_tags_used = times_tag_used.sort_values(by=\"Times Tag Used\").tail(20)\n",
    "top_times_tags_used"
   ]
  },
  {
   "cell_type": "markdown",
   "metadata": {},
   "source": [
    "The above are the top most used tags. Let us see how this looks graphically."
   ]
  },
  {
   "cell_type": "code",
   "execution_count": 19,
   "metadata": {
    "collapsed": false,
    "scrolled": false
   },
   "outputs": [
    {
     "data": {
      "image/png": "[encoded data removed]",
      "text/plain": [
       "<matplotlib.figure.Figure at 0x7f948d61f668>"
      ]
     },
     "metadata": {},
     "output_type": "display_data"
    }
   ],
   "source": [
    "import matplotlib.pyplot as plt\n",
    "import numpy as np\n",
    "%magic inline\n",
    "\n",
    "top_times_tags_used.plot(kind='barh', figsize=(16,8))\n",
    "plt.show()"
   ]
  },
  {
   "cell_type": "code",
   "execution_count": 20,
   "metadata": {
    "collapsed": false
   },
   "outputs": [
    {
     "name": "stdout",
     "output_type": "stream",
     "text": [
      "{'pathfinder': 266, 'siamese-networks': 38, 'smotenc': 55, 'multi-instance-learning': 63, 'policy-gradients': 38, 'time-series': 22, 'transfer-learning': 246, 'labels': 459, 'ml': 21, 'text-mining': 59, 'noisification': 9, 'openai-gym': 471, 'stanford-nlp': 31, 'activation': 15, 'normal-equation': 103, 'neural': 21, 'c++': 24, 'image-preprocessing': 319, 'pytorch': 33, 'keras-rl': 230, 'dynamic-programming': 758, 'reinforcement-learning': 119, 'bayesian': 81, 'kendalls-tau-coefficient': 474, 'automl': 12, 'nn': 115, 'graphs': 130, 'opencv': 206, 'evolutionary-algorithms': 253, 'java': 249, 'annotation': 14, 'causalimpact': 49, '3d-reconstruction': 9, 'sematic-similarity': 36, 'class-imbalance': 44, 'glm': 11, 'sensors': 8, 'optimization': 58, 'dataframe': 549, 'seaborn': 212, 'word2vec': 852, 'dqn': 30, 'unsupervised-learning': 35, 'dropout': 135, 'gaussian': 40, 'hog': 18, 'matlab': 31, 'theano': 22, 'metric': 159, 'dataset': 422, 'career': 45, 'pac-learning': 164, 'naive-bayes-classifier': 52, 'scikit-learn': 428, 'spss': 17, 'ggplot2': 140, 'experiments': 41, 'ipython': 1907, 'sampling': 23, 'forecasting': 70, 'parameter': 33, 'feature-engineering': 71, 'vgg16': 206, 'supervised-learning': 19, 'bigdata': 74, 'implementation': 54, 'bayesian-networks': 28, 'probability': 65, 'feature-scaling': 46, 'sparsity': 14, 'categories': 13, 'autoencoder': 158, 'definitions': 64, 'apache-nifi': 119, 'project-planning': 29, 'k-nn': 168, 'python-3.x': 41, 'named-entity-recognition': 68, 'pca': 102, 'scoring': 2110, 'vae': 104, 'object-recognition': 229, 'auc': 38, 'pyspark': 988, 'anova': 49, 'alex-net': 15, 'parallel': 36, 'refit-model': 37, 'finite-precision': 11, 'label-flipping': 480, 'outlier': 25, 'game': 22, 'k-means': 49, 'library': 10, 'dbscan': 189, 'history': 20, 'similar-documents': 37, 'software-development': 562, 'least-squares-svm': 110, 'processing': 7, 'q-learning': 139, 'h2o': 10, 'coursera': 110, 'discriminant-analysis': 86, 'networkx': 14, 'evaluation': 218, 'yolo': 101, 'ann': 11, 'attention-mechanism': 37, 'theory': 40, 'azure-ml': 11, 'automatic-summarization': 12, 'anomaly-detection': 36, 'relational-dbms': 22, 'topic-model': 28, 'multilabel-classification': 29, 'hinge-loss': 8, 'lbp': 4, 'forecast': 65, 'question-answering': 21, 'svr': 167, 'manhattan': 43, 'math': 114, 'data-stream-mining': 14, 'tokenization': 29, 'prediction': 45, 'data-imputation': 8, 'gensim': 35, 'distribution': 21, 'one-shot-learning': 54, 'stemming': 25, 'rbm': 43, 'objective-function': 11, 'performance': 61, 'backpropagation': 463, 'methods': 20, 'mnist': 108, 'normalization': 140, 'grid-search': 2324, 'sports': 12, 'cost-function': 61, 'python': 1646, 'education': 31, 'google-cloud': 19, 'survival-analysis': 31, 'data-indexing-techniques': 47, 'bayes-error': 128, 'bioinformatics': 29, 'domain-adaptation': 48, '.net': 438, 'activity-recognition': 14, 'json': 15, 'ensemble-modeling': 145, 'notation': 76, 'competitions': 15, 'bert': 476, 'heatmap': 13, 'text-generation': 23, 'programming': 12, 'pearsons-correlation-coefficient': 83, 'ensemble': 55, 'markov-hidden-model': 56, 'r': 130, 'huggingface': 37, 'infographics': 42, 'image-segmentation': 32, 'error-handling': 134, 'unbalanced-classes': 42, 'numerical': 401, 'aws-lambda': 964, 'dialog-flow': 29, 'kernel': 216, 'sequential-pattern-mining': 85, 'efficiency': 19, 'word-embeddings': 97, 'pattern-recognition': 23, 'kaggle': 426, 'regression': 159, 'tableau': 75, 'linear-algebra': 39, 'epochs': 16, 'groupby': 15, 'predictor-importance': 34, 'probabilistic-programming': 10, 'ranking': 41, 'algorithms': 13, 'automation': 15, 'xboost': 71, 'ocr': 222, 'open-set': 17, 'cnn': 217, 'kitti-dataset': 7, 'svm': 1231, 'data-leakage': 99, 'image': 117, 'gradient-descent': 852, 'churn': 35, 'object-detection': 358, 'numpy': 612, 'categorical-data': 21, 'historgram': 59, 'image-classification': 25, 'databases': 43, 'speech-to-text': 24, 'search-engine': 48, 'pytorch-geometric': 51, 'neural-style-transfer': 13, 'image-recognition': 33, 'momentum': 14, 'pipelines': 19, 'ndcg': 140, 'clusters': 63, 'multitask-learning': 35, 'score': 69, 'version-control': 94, 'machine-translation': 21, 'stacked-lstm': 54, 'mathematics': 58, 'aws': 175, 'faster-rcnn': 48, 'rstudio': 15, 'descriptive-statistics': 8, 'amazon-ml': 35, 'gan': 19, 'sentiment-analysis': 177, 'finetuning': 28, 'management': 19, 'feature-selection': 136, 'data-formats': 99, 'image-size': 33, 'pip': 30, 'convnet': 857, 'language-model': 22, 'anomaly': 67, 'visualization': 245, 'convolution': 87, 'inception': 10, 'community': 42, 'genetic-programming': 21, 'markov': 105, 'difference': 103, 'boosting': 62, 'computer-vision': 75, 'structured-data': 130, 'hyperparameter': 227, 'xgboost': 559, 'rbf': 70, 'estimators': 19, 'software-recommendation': 18, 'privacy': 11, 'nlg': 80, 'lda-classifier': 68, 'probability-calibration': 89, 'genetic-algorithms': 30, 'mean-shift': 19, 'accuracy': 9, 'data-mining': 1506, 'bias': 30, 'weka': 64, 'matrix-factorisation': 8, 'doc2vec': 14, 'serialisation': 464, 'random-forest': 17, 'gpu': 89, 'paperspace': 12, 'research': 242, 'explainable-ai': 117, 'unseen-data': 35, 'categorical-encoding': 42, 'multi-output': 171, 'loss-function': 105, 'consumerweb': 24, 'haar-cascade': 16, 'finance': 39, 'apache-hadoop': 12, 'james-stein-encoder': 26, 'lightgbm': 17, 'self-driving': 23, 'classifier': 22, 'csv': 2103, 'cloud-computing': 36, 'learning-rate': 5, 'sagemaker': 41, 'nlp': 970, 'fastai': 18, 'feature-extraction': 69, 'correlation': 16, 'natural-language-process': 16, 'beginner': 70, 'lstm': 73, 'sql': 70, 'chatbot': 17, 'counter-inference': 58, 'dimensionality-reduction': 604, 'logistic-regression': 48, 'training': 175, 'movielens': 34, 'rmse': 17, 'word': 118, 'rnn': 115, 'nl2sql': 14, 'interpolation': 25, 'reshape': 54, 'cause-effect-relations': 42, 'orange': 234, 'density-estimation': 54, 'gmm': 35, 'data.table': 78, 'learning-to-rank': 27, 'expectation-maximization': 39, 'neural-network': 2764, 'mse': 13, 'dplyr': 22, 'similarity': 5, 'tesseract': 34, 'twitter': 34, 'transformer': 26, 'model-selection': 64, 'audio-recognition': 34, 'cosine-distance': 129, 'data-augmentation': 41, 'perceptron': 50, 'wikipedia': 23, 'knime': 36, 'tensorflow': 16, 'dirichlet': 134, 'encoder': 16, 'powerbi': 16, 'vc-theory': 85, 'nosql': 33, 'dummy-variables': 117, 'julia': 7, 'map-reduce': 45, 'graphical-model': 28, 'recurrent-neural-net': 10, 'summarunner-architecture': 45, 'features': 10, 'search': 55, 'active-learning': 25, 'market-basket-analysis': 11, 'convergence': 38, 'vector-space-models': 13, 'parquet': 17, 'mlp': 24, 'overfitting': 55, 'indexing': 3465, 'text-classification': 32, 'libsvm': 54, 'data': 1641, 'state-of-the-art': 17, 'gaussian-process': 51, 'marginal-effects': 12, 'statistics': 20, 'sas': 18, 'discounted-reward': 16, 'mini-batch-gradient-descent': 55, 'tfidf': 91, 'manifold': 80, 'text': 48, 'colab': 228, 'anonymization': 117, 'feature-construction': 18, 'torch': 5, 'data-cleaning': 280, 'pandas': 933, 'google': 18, 'cross-validation': 134, 'feature-reduction': 189, 'hardware': 41, 'time': 31, 'machine-learning-model': 50, 'nltk': 98, 'orange3': 35, 'octave': 165, 'predict': 42, 'embeddings': 63, 'data-wrangling': 29, 'wolfram-language': 42, 'fuzzy-logic': 316, 'linear-regression': 214, 'metadata': 130, 'reference-request': 29, 'predictive-modeling': 1796, 'data-product': 186, 'cloud': 15, 'hyperparameter-tuning': 28, 'representation': 29, 'variance': 91, 'ridge-regression': 30, 'adaboost': 23, 'gridsearchcv': 32, 'inceptionresnetv2': 29, 'ai': 106, 'sequence': 11, 'redshift': 19, 'apache-spark': 33, 'online-learning': 24, 'information-retrieval': 37, 'spacy': 190, 'semi-supervised-learning': 28, 'information-theory': 15, 'books': 36, 'terminology': 22, 'distributed': 146, 'softmax': 72, 'clustering': 98, 'pruning': 7, 'keras': 756, 'noise': 57, 'binary': 31, 'meta-learning': 101, 'deepmind': 21, 'multivariate-distribution': 4, 'mcmc': 22, 'lda': 21, 'actor-critic': 173, 'text-filter': 17, 'tsne': 105, 'aggregation': 20, 'association-rules': 169, 'monte-carlo': 3210, 'distance': 78, 'crawling': 36, 'deep-learning': 1138, 'mutual-information': 11, 'self-study': 42, 'jaccard-coefficient': 176, 'pickle': 98, 'frequentist': 11, 'marketing': 21, 'caffe': 11, 'c': 21, 'mongodb': 25, 'anaconda': 1113, 'social-network-analysis': 135, 'sequence-to-sequence': 104, 'allennlp': 171, 'javascript': 110, 'usecase': 26, 'classification': 29, 'ab-test': 54, 'tools': 275, 'confusion-matrix': 43, 'weighted-data': 88, 'hive': 31, 'multiclass-classification': 589, 'gbm': 12, 'exploitation': 12, 'counts': 57, 'openai-gpt': 20, 'code': 189, 'preprocessing': 568, 'goss': 32, 'batch-normalization': 919, 'recommender-system': 195, 'plotting': 21, 'impala': 19, 'one-hot-encoding': 36, 'generative-models': 127, 'collinearity': 37, 'feature-map': 22, 'learning': 80, 'decision-trees': 616, 'etl': 148, 'machine-learning': 6839, 'scipy': 12, 'parsing': 152, 'homework': 177, 'scraping': 23, 'google-prediction-api': 10, 'siamese': 65, 'pgm': 19, 'data-science-model': 32, 'regex': 184, 'scala': 22, 'spyder': 43, 'linux': 192, 'arima': 24, 'generalization': 99, 'simulation': 292, 'ngrams': 10, 'gru': 16, 'non-parametric': 32, 'lasso': 38, 'fuzzy-classification': 5, 'parameter-estimation': 32, 'statsmodels': 9, 'encoding': 18, 'markov-process': 49, 'randomized-algorithms': 1195, 'smote': 98, 'geospatial': 10, 'weight-initialization': 113, 'web-scrapping': 87, 'data-analysis': 81, 'scalability': 94, 'matplotlib': 718, 'imbalanced-learn': 143, 'missing-data': 9, 'nvidia': 94, 'matrix': 147, 'ensemble-learning': 32, 'activation-function': 177, 'bayesian-nonparametric': 23, 'jupyter': 2006, 'methodology': 31, 'excel': 19, 'deep-network': 79, 'pooling': 43, 'hierarchical-data-format': 30, 'regularization': 74}\n"
     ]
    }
   ],
   "source": [
    "num_views = {}\n",
    "for index, row in questions.iterrows():\n",
    "    for tag in row['Tags']:\n",
    "        if tag in num_views:\n",
    "            num_views[tag] += row[\"ViewCount\"]\n",
    "    else:\n",
    "            num_views[tag] = row[\"ViewCount\"]\n",
    "print(num_views)"
   ]
  },
  {
   "cell_type": "code",
   "execution_count": 21,
   "metadata": {
    "collapsed": false
   },
   "outputs": [
    {
     "name": "stdout",
     "output_type": "stream",
     "text": [
      "                          Times Tags Viewed\n",
      "pathfinder                              266\n",
      "siamese-networks                         38\n",
      "smotenc                                  55\n",
      "multi-instance-learning                  63\n",
      "policy-gradients                         38\n",
      "time-series                              22\n",
      "transfer-learning                       246\n",
      "labels                                  459\n",
      "ml                                       21\n",
      "text-mining                              59\n",
      "noisification                             9\n",
      "openai-gym                              471\n",
      "stanford-nlp                             31\n",
      "activation                               15\n",
      "normal-equation                         103\n",
      "neural                                   21\n",
      "c++                                      24\n",
      "image-preprocessing                     319\n",
      "pytorch                                  33\n",
      "keras-rl                                230\n",
      "dynamic-programming                     758\n",
      "reinforcement-learning                  119\n",
      "bayesian                                 81\n",
      "kendalls-tau-coefficient                474\n",
      "automl                                   12\n",
      "nn                                      115\n",
      "graphs                                  130\n",
      "opencv                                  206\n",
      "evolutionary-algorithms                 253\n",
      "java                                    249\n",
      "...                                     ...\n",
      "gru                                      16\n",
      "non-parametric                           32\n",
      "lasso                                    38\n",
      "fuzzy-classification                      5\n",
      "parameter-estimation                     32\n",
      "statsmodels                               9\n",
      "encoding                                 18\n",
      "markov-process                           49\n",
      "randomized-algorithms                  1195\n",
      "smote                                    98\n",
      "geospatial                               10\n",
      "weight-initialization                   113\n",
      "web-scrapping                            87\n",
      "data-analysis                            81\n",
      "scalability                              94\n",
      "matplotlib                              718\n",
      "imbalanced-learn                        143\n",
      "missing-data                              9\n",
      "nvidia                                   94\n",
      "matrix                                  147\n",
      "ensemble-learning                        32\n",
      "activation-function                     177\n",
      "bayesian-nonparametric                   23\n",
      "jupyter                                2006\n",
      "methodology                              31\n",
      "excel                                    19\n",
      "deep-network                             79\n",
      "pooling                                  43\n",
      "hierarchical-data-format                 30\n",
      "regularization                           74\n",
      "\n",
      "[511 rows x 1 columns]\n"
     ]
    }
   ],
   "source": [
    "num_views = pd.DataFrame.from_dict(num_views, orient='index')\n",
    "num_views.rename(columns={0: \"Times Tags Viewed\"}, inplace=True)\n",
    "print(num_views)"
   ]
  },
  {
   "cell_type": "code",
   "execution_count": 22,
   "metadata": {
    "collapsed": false
   },
   "outputs": [
    {
     "data": {
      "text/html": [
       "<div>\n",
       "<style scoped>\n",
       "    .dataframe tbody tr th:only-of-type {\n",
       "        vertical-align: middle;\n",
       "    }\n",
       "\n",
       "    .dataframe tbody tr th {\n",
       "        vertical-align: top;\n",
       "    }\n",
       "\n",
       "    .dataframe thead th {\n",
       "        text-align: right;\n",
       "    }\n",
       "</style>\n",
       "<table border=\"1\" class=\"dataframe\">\n",
       "  <thead>\n",
       "    <tr style=\"text-align: right;\">\n",
       "      <th></th>\n",
       "      <th>Times Tags Viewed</th>\n",
       "    </tr>\n",
       "  </thead>\n",
       "  <tbody>\n",
       "    <tr>\n",
       "      <th>aws-lambda</th>\n",
       "      <td>964</td>\n",
       "    </tr>\n",
       "    <tr>\n",
       "      <th>nlp</th>\n",
       "      <td>970</td>\n",
       "    </tr>\n",
       "    <tr>\n",
       "      <th>pyspark</th>\n",
       "      <td>988</td>\n",
       "    </tr>\n",
       "    <tr>\n",
       "      <th>anaconda</th>\n",
       "      <td>1113</td>\n",
       "    </tr>\n",
       "    <tr>\n",
       "      <th>deep-learning</th>\n",
       "      <td>1138</td>\n",
       "    </tr>\n",
       "    <tr>\n",
       "      <th>randomized-algorithms</th>\n",
       "      <td>1195</td>\n",
       "    </tr>\n",
       "    <tr>\n",
       "      <th>svm</th>\n",
       "      <td>1231</td>\n",
       "    </tr>\n",
       "    <tr>\n",
       "      <th>data-mining</th>\n",
       "      <td>1506</td>\n",
       "    </tr>\n",
       "    <tr>\n",
       "      <th>data</th>\n",
       "      <td>1641</td>\n",
       "    </tr>\n",
       "    <tr>\n",
       "      <th>python</th>\n",
       "      <td>1646</td>\n",
       "    </tr>\n",
       "    <tr>\n",
       "      <th>predictive-modeling</th>\n",
       "      <td>1796</td>\n",
       "    </tr>\n",
       "    <tr>\n",
       "      <th>ipython</th>\n",
       "      <td>1907</td>\n",
       "    </tr>\n",
       "    <tr>\n",
       "      <th>jupyter</th>\n",
       "      <td>2006</td>\n",
       "    </tr>\n",
       "    <tr>\n",
       "      <th>csv</th>\n",
       "      <td>2103</td>\n",
       "    </tr>\n",
       "    <tr>\n",
       "      <th>scoring</th>\n",
       "      <td>2110</td>\n",
       "    </tr>\n",
       "    <tr>\n",
       "      <th>grid-search</th>\n",
       "      <td>2324</td>\n",
       "    </tr>\n",
       "    <tr>\n",
       "      <th>neural-network</th>\n",
       "      <td>2764</td>\n",
       "    </tr>\n",
       "    <tr>\n",
       "      <th>monte-carlo</th>\n",
       "      <td>3210</td>\n",
       "    </tr>\n",
       "    <tr>\n",
       "      <th>indexing</th>\n",
       "      <td>3465</td>\n",
       "    </tr>\n",
       "    <tr>\n",
       "      <th>machine-learning</th>\n",
       "      <td>6839</td>\n",
       "    </tr>\n",
       "  </tbody>\n",
       "</table>\n",
       "</div>"
      ],
      "text/plain": [
       "                       Times Tags Viewed\n",
       "aws-lambda                           964\n",
       "nlp                                  970\n",
       "pyspark                              988\n",
       "anaconda                            1113\n",
       "deep-learning                       1138\n",
       "randomized-algorithms               1195\n",
       "svm                                 1231\n",
       "data-mining                         1506\n",
       "data                                1641\n",
       "python                              1646\n",
       "predictive-modeling                 1796\n",
       "ipython                             1907\n",
       "jupyter                             2006\n",
       "csv                                 2103\n",
       "scoring                             2110\n",
       "grid-search                         2324\n",
       "neural-network                      2764\n",
       "monte-carlo                         3210\n",
       "indexing                            3465\n",
       "machine-learning                    6839"
      ]
     },
     "execution_count": 22,
     "metadata": {},
     "output_type": "execute_result"
    }
   ],
   "source": [
    "top_views = num_views.sort_values(by=\"Times Tags Viewed\").tail(20)\n",
    "top_views"
   ]
  },
  {
   "cell_type": "code",
   "execution_count": 23,
   "metadata": {
    "collapsed": false
   },
   "outputs": [
    {
     "data": {
      "image/png": "[encoded data removed]",
      "text/plain": [
       "<matplotlib.figure.Figure at 0x7f948d5bbc88>"
      ]
     },
     "metadata": {},
     "output_type": "display_data"
    }
   ],
   "source": [
    "top_views.plot(kind='barh', figsize=(16,8))\n",
    "plt.show()"
   ]
  },
  {
   "cell_type": "markdown",
   "metadata": {},
   "source": [
    "Seeing the plots side by side we have the following."
   ]
  },
  {
   "cell_type": "code",
   "execution_count": 24,
   "metadata": {
    "collapsed": false
   },
   "outputs": [
    {
     "data": {
      "image/png": "[encoded data removed]",
      "text/plain": [
       "<matplotlib.figure.Figure at 0x7f948d43f7f0>"
      ]
     },
     "metadata": {},
     "output_type": "display_data"
    }
   ],
   "source": [
    "fig, axes = plt.subplots(nrows=1, ncols=2, figsize=(15,8))\n",
    "top_times_tags_used.plot(kind='barh', ax=axes[0], subplots=True)\n",
    "top_views.plot(kind='barh', ax=axes[1], subplots=True)\n",
    "plt.show()"
   ]
  },
  {
   "cell_type": "markdown",
   "metadata": {},
   "source": [
    "Among the top ten tags are: python, machine-learning, deep-learning, neural-network, keras, tensorflow, classification, and scikit-learn. Let's look at how these may be related. Deep learning is an area of machine learning.Neural networks are used in modeling often complex data in a way that mimics the brain. Keras is a neural network library written in Python. TensorFlow is an open source machine larning library. Scikit-Learn is a Python module used for machine learning, among other things. Classification is used in supervised learning, a part of the machine learning process. So we see the interconnectedness of these tags."
   ]
  },
  {
   "cell_type": "code",
   "execution_count": 25,
   "metadata": {
    "collapsed": true
   },
   "outputs": [],
   "source": [
    "import pandas as pd\n",
    "import matplotlib.pyplot as plt\n",
    "import seaborn as sns\n",
    "\n",
    "%matplotlib inline"
   ]
  },
  {
   "cell_type": "code",
   "execution_count": 26,
   "metadata": {
    "collapsed": false
   },
   "outputs": [
    {
     "name": "stdout",
     "output_type": "stream",
     "text": [
      "<class 'pandas.core.frame.DataFrame'>\n",
      "RangeIndex: 21576 entries, 0 to 21575\n",
      "Data columns (total 3 columns):\n",
      "Id              21576 non-null int64\n",
      "CreationDate    21576 non-null datetime64[ns]\n",
      "Tags            21576 non-null object\n",
      "dtypes: datetime64[ns](1), int64(1), object(1)\n",
      "memory usage: 505.8+ KB\n"
     ]
    }
   ],
   "source": [
    "all_quests = pd.read_csv(\"all_questions.csv\", parse_dates=[\"CreationDate\"])\n",
    "all_quests.info()"
   ]
  },
  {
   "cell_type": "code",
   "execution_count": 27,
   "metadata": {
    "collapsed": false
   },
   "outputs": [
    {
     "name": "stdout",
     "output_type": "stream",
     "text": [
      "0        [python, keras, tensorflow, cnn, probability]\n",
      "1                                     [neural-network]\n",
      "2                        [python, ibm-watson, chatbot]\n",
      "3                                              [keras]\n",
      "4    [r, predictive-modeling, machine-learning-mode...\n",
      "Name: Tags, dtype: object\n"
     ]
    }
   ],
   "source": [
    "all_quests['Tags'] = all_quests['Tags'].str.replace(\"^<|>$\", \"\").str.split(\"><\")\n",
    "print(all_quests['Tags'].head(5))"
   ]
  },
  {
   "cell_type": "code",
   "execution_count": 28,
   "metadata": {
    "collapsed": false
   },
   "outputs": [
    {
     "name": "stdout",
     "output_type": "stream",
     "text": [
      "{'pathfinder': 1, 'siamese-networks': 6, 'bioinformatics': 17, 'multi-instance-learning': 2, 'policy-gradients': 41, 'time-series': 1005, 'transfer-learning': 99, 'labels': 65, 'ml': 8, 'metadata': 10, 'methods': 14, 'openai-gym': 23, 'activation': 1, 'normal-equation': 6, 'vae': 16, 'neural': 17, 'c++': 1, 'image-preprocessing': 71, 'pytorch': 239, 'keras-rl': 10, 'dynamic-programming': 5, 'reinforcement-learning': 413, 'bayesian': 76, 'kendalls-tau-coefficient': 1, 'automl': 4, 'nn': 1, 'graphs': 139, 'opencv': 52, 'evolutionary-algorithms': 12, 'java': 58, 'annotation': 16, 'marginal-effects': 1, 'causalimpact': 2, '3d-reconstruction': 9, 'separable': 1, 'sematic-similarity': 3, 'class-imbalance': 133, 'glm': 19, 'statistics': 650, 'optimization': 290, 'rattle': 3, 'dataframe': 157, 'mathematics': 19, 'word2vec': 244, 'dqn': 63, '3d-object-detection': 1, 'unsupervised-learning': 271, 'gaussian': 51, 'hog': 3, 'matlab': 144, 'theano': 46, 'metric': 95, 'dataset': 893, 'career': 49, 'ibm-watson': 2, 'naive-bayes-classifier': 120, 'state-of-the-art': 6, 'spss': 5, 'ggplot2': 21, 'experiments': 21, 'nltk': 105, 'reference-request': 65, 'forecasting': 132, 'parameter': 27, 'feature-engineering': 333, 'vgg16': 28, 'supervised-learning': 235, 'bigdata': 414, 'implementation': 9, 'bayesian-networks': 40, 'probability': 184, 'feature-scaling': 132, 'sparsity': 2, 'categories': 2, 'autoencoder': 201, 'definitions': 28, 'corpus': 1, 'lsi': 5, 'apache-nifi': 1, 'rmsle': 1, 'project-planning': 10, 'k-nn': 88, 'google': 31, 'python-3.x': 20, 'named-entity-recognition': 84, 'pca': 193, 'scoring': 31, 'smote': 44, 'object-recognition': 51, 'auc': 6, 'pyspark': 101, 'anova': 1, 'h2o': 4, 'parallel': 32, 'refit-model': 1, 'extreme-learning-machine': 1, 'openai-gpt': 3, 'label-flipping': 1, 'outlier': 125, 'game': 14, 'k-means': 265, 'library': 12, 'dbscan': 41, 'history': 4, 'similar-documents': 39, 'software-development': 14, 'linearly-separable': 1, 'least-squares-svm': 1, 'processing': 17, 'q-learning': 95, 'alex-net': 10, 'coursera': 4, 'discriminant-analysis': 12, 'networkx': 2, 'evaluation': 156, 'yolo': 39, 'manhattan': 3, 'attention-mechanism': 32, 'theory': 28, 'azure-ml': 35, 'automatic-summarization': 17, 'anomaly-detection': 205, 'relational-dbms': 11, 'topic-model': 92, 'multilabel-classification': 197, 'hinge-loss': 8, 'lbp': 2, 'forecast': 93, 'question-answering': 6, 'churn': 29, 'ann': 3, 'data-stream-mining': 14, 'prediction': 265, 'data-imputation': 56, 'gensim': 78, 'distribution': 98, 'one-shot-learning': 3, 'stemming': 2, 'rbm': 31, 'objective-function': 11, 'performance': 110, 'scikit-learn': 1307, 'mnist': 54, 'normalization': 158, 'grid-search': 54, 'sports': 6, 'cost-function': 55, 'python': 3937, 'education': 31, 'google-cloud': 1, 'survival-analysis': 26, 'feature-reduction': 6, 'domain-adaptation': 9, '.net': 6, 'activity-recognition': 6, 'json': 23, 'anonymization': 8, 'notation': 9, 'competitions': 5, 'bert': 68, 'heatmap': 11, 'text-generation': 30, 'octave': 14, 'tflearn': 9, 'summarunner-architecture': 1, 'pyro': 1, 'ensemble': 19, 'markov-hidden-model': 25, 'r': 1119, 'huggingface': 2, 'infographics': 7, 'hbase': 2, 'image-segmentation': 8, 'distributed': 35, 'unbalanced-classes': 148, 'numerical': 18, 'aws-lambda': 2, 'dialog-flow': 2, 'kernel': 51, 'sequential-pattern-mining': 43, 'efficiency': 27, 'word-embeddings': 253, 'pattern-recognition': 1, 'recommender-system': 310, 'regression': 869, 'tableau': 26, 'linear-algebra': 42, 'epochs': 17, 'groupby': 2, 'predictor-importance': 16, 'probabilistic-programming': 14, 'ranking': 66, 'automation': 6, 'xboost': 1, 'ocr': 47, 'open-set': 2, 'apache-mahout': 16, 'kitti-dataset': 1, 'wolfram-language': 3, 'data-leakage': 13, 'image': 36, 'knowledge-base': 16, 'gradient-descent': 253, 'math': 51, 'ngboost': 1, 'object-detection': 155, 'dirichlet': 6, 'numpy': 193, 'batch-normalization': 43, 'historgram': 11, 'image-classification': 461, 'databases': 81, 'speech-to-text': 14, 'search-engine': 12, 'pytorch-geometric': 2, 'neural-style-transfer': 15, 'image-recognition': 200, 'freebase': 3, 'james-stein-encoder': 1, 'momentum': 5, 'pipelines': 23, 'ndcg': 6, 'clusters': 39, 'multitask-learning': 19, 'score': 20, 'version-control': 5, 'machine-translation': 51, 'programming': 35, 'stacked-lstm': 15, 'pybrain': 3, 'aws': 40, 'faster-rcnn': 46, 'rstudio': 39, 'bayesian-neural-network': 1, 'descriptive-statistics': 48, 'amazon-ml': 10, 'gan': 151, 'sentiment-analysis': 118, 'finetuning': 8, 'reductions': 2, 'management': 7, 'data.table': 13, 'dump': 1, 'data-formats': 29, 'feature-map': 2, 'pip': 9, 'convnet': 426, 'language-model': 49, 'anomaly': 8, 'pearsons-correlation-coefficient': 3, 'algorithms': 308, 'counter-inference': 1, 'convolution': 210, 'inception': 39, 'web-scrapping': 8, 'bayesian-nonparametric': 2, 'cloud': 9, 'difference': 7, 'boosting': 68, 'computer-vision': 313, 'classifier': 40, 'structured-data': 5, 'hyperparameter': 101, 'xgboost': 366, 'rbf': 6, 'training': 321, 'privacy': 9, 'nlg': 10, 'lda-classifier': 6, 'probability-calibration': 18, 'genetic-algorithms': 38, 'mean-shift': 2, 'accuracy': 186, 'representation': 16, 'bias': 35, 'seaborn': 59, 'weka': 55, 'matrix-factorisation': 46, 'doc2vec': 4, 'serialisation': 3, 'random-forest': 463, 'gpu': 97, 'paperspace': 1, 'helmert-coding': 1, 'research': 36, 'explainable-ai': 11, 'statsmodels': 3, 'sparse': 1, 'unseen-data': 2, 'categorical-encoding': 4, 'ensemble-modeling': 106, 'multi-output': 8, 'loss-function': 277, 'data-engineering': 2, 'consumerweb': 6, 'haar-cascade': 1, 'finance': 38, 'apache-hadoop': 110, 'demographic-data': 1, 'lightgbm': 25, 'self-driving': 5, 'data-indexing-techniques': 5, 'csv': 65, 'cloud-computing': 17, 'learning-rate': 16, 'sagemaker': 8, 'nlp': 1170, 'impala': 1, 'fastai': 6, 'finite-precision': 3, 'apache-kafka': 3, 'feature-extraction': 271, 'correlation': 207, 'natural-language-process': 182, 'beginner': 125, 'lstm': 694, 'sql': 73, 'imbalanced-learn': 21, 'chatbot': 15, 'noisification': 3, 'dimensionality-reduction': 178, 'logistic-regression': 406, 'mutual-information': 13, 'estimators': 17, 'movielens': 2, 'data-transfer': 1, 'word': 6, 'distance': 104, 'rnn': 404, 'nl2sql': 1, 'interpolation': 15, 'reshape': 17, 'cause-effect-relations': 1, 'orange': 189, 'density-estimation': 3, 'gmm': 2, 'feature-selection': 551, 'learning-to-rank': 12, 'expectation-maximization': 16, 'label-smoothing': 1, 'neural-network': 2939, 'arima': 12, 'dplyr': 11, 'similarity': 195, 'tesseract': 3, 'twitter': 17, 'transformer': 45, 'model-selection': 141, 'audio-recognition': 64, 'cosine-distance': 47, 'data-augmentation': 48, 'perceptron': 59, 'simulation': 22, 'cnn': 815, 'tensorflow': 1229, 'pac-learning': 11, 'dropout': 49, 'encoder': 2, 'powerbi': 18, 'vc-theory': 11, 'nosql': 21, 'dummy-variables': 20, 'julia': 9, 'map-reduce': 25, 'graphical-model': 22, 'natural-gradient-boosting': 1, 'backpropagation': 198, 'tools': 56, 'features': 33, 'search': 40, 'active-learning': 9, 'market-basket-analysis': 23, 'convergence': 27, 'vector-space-models': 17, 'parquet': 1, 'mlp': 53, 'overfitting': 147, 'indexing': 13, 'text-classification': 4, 'libsvm': 12, 'stata': 4, 'data': 476, 'gaussian-process': 13, 'smotenc': 4, 'sensors': 7, 'sas': 17, 'discounted-reward': 5, 'mini-batch-gradient-descent': 28, 'tfidf': 53, 'manifold': 6, 'text': 97, 'f1score': 1, 'colab': 23, 'feature-construction': 54, 'torch': 12, 'data-cleaning': 444, 'visualization': 421, 'pandas': 736, 'stanford-nlp': 40, 'cross-validation': 334, 'bayes-error': 6, 'hardware': 18, 'time': 6, 'randomized-algorithms': 15, 'ipython': 45, 'orange3': 23, 'semi-supervised-learning': 40, 'predict': 3, 'embeddings': 73, 'data-wrangling': 34, 'svm': 389, 'fuzzy-logic': 26, 'handwritten': 1, 'linear-regression': 439, 'predictive-modeling': 817, 'data-product': 9, 'tokenization': 11, 'hyperparameter-tuning': 99, 'data-mining': 947, 'featurization': 5, 'variance': 60, 'ridge-regression': 7, 'markov': 12, 'adaboost': 4, 'gridsearchcv': 35, 'inceptionresnetv2': 6, 'ai': 38, 'sampling': 110, 'sequence': 68, 'apache-pig': 7, 'knime': 1, 'redshift': 5, 'apache-spark': 208, 'genetic-programming': 3, 'online-learning': 45, 'information-retrieval': 104, 'hurdle-model': 1, 'spacy': 21, 'crawling': 11, 'books': 27, 'information-theory': 28, 'error-handling': 36, 'softmax': 24, 'clustering': 846, 'svr': 9, 'pruning': 3, 'keras': 1750, 'noise': 26, 'binary': 68, 'meta-learning': 8, 'deepmind': 8, 'multivariate-distribution': 3, 'mcmc': 6, 'lda': 83, 'actor-critic': 25, 'text-filter': 6, 'tsne': 44, 'aggregation': 28, 'association-rules': 54, 'monte-carlo': 21, 'ab-test': 29, 'deep-learning': 2805, 'text-mining': 472, 'self-study': 36, 'jaccard-coefficient': 8, 'pickle': 9, 'open-source': 16, 'frequentist': 1, 'marketing': 23, 'spearmans-rank-correlation': 1, 'caffe': 22, 'glorot-initialization': 2, 'c': 12, 'mongodb': 13, 'anaconda': 38, 'social-network-analysis': 80, 'sequence-to-sequence': 58, 'allennlp': 2, 'javascript': 24, 'usecase': 7, 'classification': 1899, 'lasso': 8, 'confusion-matrix': 72, 'weighted-data': 39, 'genetic': 4, 'multiclass-classification': 294, 'gbm': 48, 'exploitation': 1, 'counts': 7, 'energy': 4, 'code': 5, 'preprocessing': 272, 'goss': 1, 'categorical-data': 237, 'neo4j': 10, 'kaggle': 75, 'plotting': 88, 'community': 3, 'one-hot-encoding': 6, 'rdkit': 1, 'generative-models': 85, 'collinearity': 10, 'image-size': 5, 'ensemble-learning': 21, 'decision-trees': 430, 'etl': 12, 'machine-learning': 6969, 'scipy': 52, 'parsing': 23, 'homework': 11, 'scraping': 33, 'google-prediction-api': 7, 'siamese': 1, 'pgm': 6, 'rmse': 1, 'data-science-model': 259, 'regex': 22, 'spectral-clustering': 1, 'scala': 41, 'spyder': 1, 'linux': 9, 'hive': 11, 'generalization': 19, 'tranformation': 4, 'ngrams': 17, 'gru': 5, 'proximal-svm': 1, 'non-parametric': 3, 'recurrent-neural-net': 151, 'fuzzy-classification': 3, 'parameter-estimation': 33, 'software-recommendation': 32, 'encoding': 94, 'markov-process': 50, 'machine-learning-model': 336, 'geospatial': 51, 'spatial-transformer': 2, 'weight-initialization': 19, 'terminology': 58, 'data-analysis': 106, 'metaheuristics': 1, 'scalability': 26, 'matplotlib': 108, 'mse': 8, 'non-convex': 1, 'missing-data': 110, 'nvidia': 13, 'matrix': 30, 'learning': 24, 'activation-function': 84, 'cs231n': 3, 'wikipedia': 1, 'jupyter': 85, 'methodology': 26, 'excel': 51, 'deep-network': 41, 'pooling': 4, 'hierarchical-data-format': 20, 'regularization': 105}\n"
     ]
    }
   ],
   "source": [
    "quest_tags = {}\n",
    "\n",
    "for tags in all_quests['Tags']:\n",
    "    for tag in tags:\n",
    "        if tag in quest_tags:\n",
    "            quest_tags[tag] += 1\n",
    "        else:\n",
    "            quest_tags[tag] = 1\n",
    "print(quest_tags)"
   ]
  },
  {
   "cell_type": "code",
   "execution_count": 29,
   "metadata": {
    "collapsed": false
   },
   "outputs": [
    {
     "name": "stdout",
     "output_type": "stream",
     "text": [
      "                          Times Tags Used\n",
      "pathfinder                              1\n",
      "siamese-networks                        4\n",
      "smotenc                                 4\n",
      "multi-instance-learning                 2\n",
      "deep-learning                        1220\n",
      "time-series                           466\n",
      "transfer-learning                      69\n",
      "labels                                 28\n",
      "ml                                      7\n",
      "text-mining                           113\n",
      "noisification                           1\n",
      "openai-gym                             17\n",
      "activation                              1\n",
      "normal-equation                         1\n",
      "neural                                 16\n",
      "c++                                     1\n",
      "image-preprocessing                    67\n",
      "pytorch                               175\n",
      "keras-rl                                6\n",
      "dynamic-programming                     3\n",
      "scikit-learn                          540\n",
      "bayesian                               40\n",
      "kendalls-tau-coefficient                1\n",
      "automl                                  2\n",
      "nn                                      1\n",
      "graphs                                 47\n",
      "opencv                                 39\n",
      "evolutionary-algorithms                11\n",
      "java                                   14\n",
      "annotation                             12\n",
      "...                                   ...\n",
      "recurrent-neural-net                   91\n",
      "fuzzy-classification                    3\n",
      "parameter-estimation                    6\n",
      "statsmodels                             1\n",
      "encoding                               54\n",
      "markov-process                         14\n",
      "randomized-algorithms                   6\n",
      "ngrams                                  7\n",
      "smote                                  27\n",
      "excel                                  24\n",
      "cross-validation                      139\n",
      "weight-initialization                  12\n",
      "web-scrapping                           8\n",
      "data-analysis                          71\n",
      "scalability                             4\n",
      "matplotlib                             77\n",
      "imbalanced-learn                       21\n",
      "missing-data                           43\n",
      "nvidia                                  7\n",
      "matrix                                 22\n",
      "ensemble-learning                      11\n",
      "activation-function                    44\n",
      "cs231n                                  1\n",
      "jupyter                                41\n",
      "methodology                            10\n",
      "geospatial                             27\n",
      "deep-network                           29\n",
      "pooling                                 4\n",
      "hierarchical-data-format                7\n",
      "regularization                         50\n",
      "\n",
      "[526 rows x 1 columns]\n"
     ]
    }
   ],
   "source": [
    "quest_tags = pd.DataFrame.from_dict(num_tags, orient='index')\n",
    "quest_tags.rename(columns={0: \"Times Tags Used\"}, inplace=True)\n",
    "print(quest_tags)"
   ]
  },
  {
   "cell_type": "code",
   "execution_count": 30,
   "metadata": {
    "collapsed": false
   },
   "outputs": [
    {
     "data": {
      "text/html": [
       "<div>\n",
       "<style scoped>\n",
       "    .dataframe tbody tr th:only-of-type {\n",
       "        vertical-align: middle;\n",
       "    }\n",
       "\n",
       "    .dataframe tbody tr th {\n",
       "        vertical-align: top;\n",
       "    }\n",
       "\n",
       "    .dataframe thead th {\n",
       "        text-align: right;\n",
       "    }\n",
       "</style>\n",
       "<table border=\"1\" class=\"dataframe\">\n",
       "  <thead>\n",
       "    <tr style=\"text-align: right;\">\n",
       "      <th></th>\n",
       "      <th>Times Tags Used</th>\n",
       "    </tr>\n",
       "  </thead>\n",
       "  <tbody>\n",
       "    <tr>\n",
       "      <th>machine-learning-model</th>\n",
       "      <td>224</td>\n",
       "    </tr>\n",
       "    <tr>\n",
       "      <th>statistics</th>\n",
       "      <td>234</td>\n",
       "    </tr>\n",
       "    <tr>\n",
       "      <th>clustering</th>\n",
       "      <td>257</td>\n",
       "    </tr>\n",
       "    <tr>\n",
       "      <th>predictive-modeling</th>\n",
       "      <td>265</td>\n",
       "    </tr>\n",
       "    <tr>\n",
       "      <th>r</th>\n",
       "      <td>268</td>\n",
       "    </tr>\n",
       "    <tr>\n",
       "      <th>dataset</th>\n",
       "      <td>340</td>\n",
       "    </tr>\n",
       "    <tr>\n",
       "      <th>regression</th>\n",
       "      <td>347</td>\n",
       "    </tr>\n",
       "    <tr>\n",
       "      <th>pandas</th>\n",
       "      <td>354</td>\n",
       "    </tr>\n",
       "    <tr>\n",
       "      <th>lstm</th>\n",
       "      <td>402</td>\n",
       "    </tr>\n",
       "    <tr>\n",
       "      <th>time-series</th>\n",
       "      <td>466</td>\n",
       "    </tr>\n",
       "    <tr>\n",
       "      <th>cnn</th>\n",
       "      <td>489</td>\n",
       "    </tr>\n",
       "    <tr>\n",
       "      <th>nlp</th>\n",
       "      <td>493</td>\n",
       "    </tr>\n",
       "    <tr>\n",
       "      <th>scikit-learn</th>\n",
       "      <td>540</td>\n",
       "    </tr>\n",
       "    <tr>\n",
       "      <th>tensorflow</th>\n",
       "      <td>584</td>\n",
       "    </tr>\n",
       "    <tr>\n",
       "      <th>classification</th>\n",
       "      <td>685</td>\n",
       "    </tr>\n",
       "    <tr>\n",
       "      <th>keras</th>\n",
       "      <td>935</td>\n",
       "    </tr>\n",
       "    <tr>\n",
       "      <th>neural-network</th>\n",
       "      <td>1055</td>\n",
       "    </tr>\n",
       "    <tr>\n",
       "      <th>deep-learning</th>\n",
       "      <td>1220</td>\n",
       "    </tr>\n",
       "    <tr>\n",
       "      <th>python</th>\n",
       "      <td>1814</td>\n",
       "    </tr>\n",
       "    <tr>\n",
       "      <th>machine-learning</th>\n",
       "      <td>2693</td>\n",
       "    </tr>\n",
       "  </tbody>\n",
       "</table>\n",
       "</div>"
      ],
      "text/plain": [
       "                        Times Tags Used\n",
       "machine-learning-model              224\n",
       "statistics                          234\n",
       "clustering                          257\n",
       "predictive-modeling                 265\n",
       "r                                   268\n",
       "dataset                             340\n",
       "regression                          347\n",
       "pandas                              354\n",
       "lstm                                402\n",
       "time-series                         466\n",
       "cnn                                 489\n",
       "nlp                                 493\n",
       "scikit-learn                        540\n",
       "tensorflow                          584\n",
       "classification                      685\n",
       "keras                               935\n",
       "neural-network                     1055\n",
       "deep-learning                      1220\n",
       "python                             1814\n",
       "machine-learning                   2693"
      ]
     },
     "execution_count": 30,
     "metadata": {},
     "output_type": "execute_result"
    }
   ],
   "source": [
    "top_qtags_used = quest_tags.sort_values(by=\"Times Tags Used\").tail(20)\n",
    "top_qtags_used"
   ]
  },
  {
   "cell_type": "code",
   "execution_count": 31,
   "metadata": {
    "collapsed": false
   },
   "outputs": [
    {
     "data": {
      "image/png": "[encoded data removed]",
      "text/plain": [
       "<matplotlib.figure.Figure at 0x7f94893464e0>"
      ]
     },
     "metadata": {},
     "output_type": "display_data"
    }
   ],
   "source": [
    "top_qtags_used.plot(kind='barh', figsize=(10,7))\n",
    "plt.show()"
   ]
  },
  {
   "cell_type": "markdown",
   "metadata": {},
   "source": [
    "Of the top tags used over time, deep learning tags should include: deep learning, machine learning, neural network,classification, TensorFlow, SciKit Learn,and cnn. These are the top tags used that are related to deep learning.\n",
    "If we look at the questions asked per year that have these tags, we can track interest in deep learning."
   ]
  },
  {
   "cell_type": "code",
   "execution_count": 38,
   "metadata": {
    "collapsed": false
   },
   "outputs": [
    {
     "data": {
      "text/html": [
       "<div>\n",
       "<style scoped>\n",
       "    .dataframe tbody tr th:only-of-type {\n",
       "        vertical-align: middle;\n",
       "    }\n",
       "\n",
       "    .dataframe tbody tr th {\n",
       "        vertical-align: top;\n",
       "    }\n",
       "\n",
       "    .dataframe thead th {\n",
       "        text-align: right;\n",
       "    }\n",
       "</style>\n",
       "<table border=\"1\" class=\"dataframe\">\n",
       "  <thead>\n",
       "    <tr style=\"text-align: right;\">\n",
       "      <th></th>\n",
       "      <th>Id</th>\n",
       "      <th>CreationDate</th>\n",
       "      <th>Tags</th>\n",
       "      <th>Deep Learning</th>\n",
       "      <th>Year</th>\n",
       "      <th>Quarter</th>\n",
       "    </tr>\n",
       "  </thead>\n",
       "  <tbody>\n",
       "    <tr>\n",
       "      <th>0</th>\n",
       "      <td>45416</td>\n",
       "      <td>2019-02-12 00:36:29</td>\n",
       "      <td>[python, keras, tensorflow, cnn, probability]</td>\n",
       "      <td>1.0</td>\n",
       "      <td>2019</td>\n",
       "      <td>1</td>\n",
       "    </tr>\n",
       "    <tr>\n",
       "      <th>1</th>\n",
       "      <td>45418</td>\n",
       "      <td>2019-02-12 00:50:39</td>\n",
       "      <td>[neural-network]</td>\n",
       "      <td>NaN</td>\n",
       "      <td>2019</td>\n",
       "      <td>1</td>\n",
       "    </tr>\n",
       "    <tr>\n",
       "      <th>2</th>\n",
       "      <td>45422</td>\n",
       "      <td>2019-02-12 04:40:51</td>\n",
       "      <td>[python, ibm-watson, chatbot]</td>\n",
       "      <td>NaN</td>\n",
       "      <td>2019</td>\n",
       "      <td>1</td>\n",
       "    </tr>\n",
       "    <tr>\n",
       "      <th>3</th>\n",
       "      <td>45426</td>\n",
       "      <td>2019-02-12 04:51:49</td>\n",
       "      <td>[keras]</td>\n",
       "      <td>NaN</td>\n",
       "      <td>2019</td>\n",
       "      <td>1</td>\n",
       "    </tr>\n",
       "    <tr>\n",
       "      <th>4</th>\n",
       "      <td>45427</td>\n",
       "      <td>2019-02-12 05:08:24</td>\n",
       "      <td>[r, predictive-modeling, machine-learning-mode...</td>\n",
       "      <td>NaN</td>\n",
       "      <td>2019</td>\n",
       "      <td>1</td>\n",
       "    </tr>\n",
       "  </tbody>\n",
       "</table>\n",
       "</div>"
      ],
      "text/plain": [
       "      Id        CreationDate  \\\n",
       "0  45416 2019-02-12 00:36:29   \n",
       "1  45418 2019-02-12 00:50:39   \n",
       "2  45422 2019-02-12 04:40:51   \n",
       "3  45426 2019-02-12 04:51:49   \n",
       "4  45427 2019-02-12 05:08:24   \n",
       "\n",
       "                                                Tags  Deep Learning  Year  \\\n",
       "0      [python, keras, tensorflow, cnn, probability]            1.0  2019   \n",
       "1                                   [neural-network]            NaN  2019   \n",
       "2                      [python, ibm-watson, chatbot]            NaN  2019   \n",
       "3                                            [keras]            NaN  2019   \n",
       "4  [r, predictive-modeling, machine-learning-mode...            NaN  2019   \n",
       "\n",
       "   Quarter  \n",
       "0        1  \n",
       "1        1  \n",
       "2        1  \n",
       "3        1  \n",
       "4        1  "
      ]
     },
     "execution_count": 38,
     "metadata": {},
     "output_type": "execute_result"
    }
   ],
   "source": [
    "#def categorize(tag):\n",
    "#    for tags in all_quests['Tags']:\n",
    "#         if \"deep-learning\" in tags:\n",
    "#             return \"Deep Learning\"\n",
    "#         elif \"machine-learning\" in tags:\n",
    "#             return \"Deep Learning\"\n",
    "#         elif \"neural-network\" in tags:\n",
    "#             return \"Deep Learning\"\n",
    "#         elif \"classification\" in tags:\n",
    "#             return \"Deep Learning\"\n",
    "#         elif \"tensorflow\" in tags:\n",
    "#             return \"Deep Learning\"\n",
    "#         elif \"sciKit-learn\" in tags:\n",
    "#             return \"Deep Learning\"\n",
    "#         elif \"cnn\" in tags:\n",
    "#             return \"Deep Learning\"\n",
    "#         else:\n",
    "#             return \"None\"\n",
    "\n",
    "deep_learning_tags = ['deep-learning', 'cnn', 'tensor flow', 'deep-learning']\n",
    "def detect_dl_tag(tags, deep_learning_tags):\n",
    "    if any([tag.lower() in deep_learning_tags for tag in tags]):\n",
    "        return 1\n",
    "\n",
    "all_quests['Deep Learning'] = all_quests['Tags'].apply(lambda x: detect_dl_tag(x, deep_learning_tags))\n",
    "                            \n",
    "year = all_quests[\"CreationDate\"].dt.year\n",
    "all_quests['Year'] = year\n",
    "quarter = all_quests['CreationDate'].dt.quarter\n",
    "all_quests['Quarter'] = quarter\n",
    "all_quests.head()                            \n",
    "                            "
   ]
  },
  {
   "cell_type": "markdown",
   "metadata": {
    "collapsed": true
   },
   "source": [
    "As we can see, the tags for deep learning increased yearly. The exception is 2020. Since we are still in 2020, we can assume that the data for 2020 is incomplete and we will exclude it."
   ]
  },
  {
   "cell_type": "code",
   "execution_count": null,
   "metadata": {
    "collapsed": false
   },
   "outputs": [],
   "source": [
    "tps = all_quests[all_quests[\"CreationDate\"].dt.year < 2020]"
   ]
  },
  {
   "cell_type": "code",
   "execution_count": 48,
   "metadata": {
    "collapsed": false
   },
   "outputs": [
    {
     "data": {
      "text/html": [
       "<div>\n",
       "<style scoped>\n",
       "    .dataframe tbody tr th:only-of-type {\n",
       "        vertical-align: middle;\n",
       "    }\n",
       "\n",
       "    .dataframe tbody tr th {\n",
       "        vertical-align: top;\n",
       "    }\n",
       "\n",
       "    .dataframe thead th {\n",
       "        text-align: right;\n",
       "    }\n",
       "</style>\n",
       "<table border=\"1\" class=\"dataframe\">\n",
       "  <thead>\n",
       "    <tr style=\"text-align: right;\">\n",
       "      <th></th>\n",
       "      <th>DeepLearningQuestions</th>\n",
       "      <th>TotalQuestions</th>\n",
       "      <th>DeepLearningRate</th>\n",
       "    </tr>\n",
       "    <tr>\n",
       "      <th>Year</th>\n",
       "      <th></th>\n",
       "      <th></th>\n",
       "      <th></th>\n",
       "    </tr>\n",
       "  </thead>\n",
       "  <tbody>\n",
       "    <tr>\n",
       "      <th>2014</th>\n",
       "      <td>8.0</td>\n",
       "      <td>562</td>\n",
       "      <td>0.014235</td>\n",
       "    </tr>\n",
       "    <tr>\n",
       "      <th>2015</th>\n",
       "      <td>30.0</td>\n",
       "      <td>1167</td>\n",
       "      <td>0.025707</td>\n",
       "    </tr>\n",
       "    <tr>\n",
       "      <th>2016</th>\n",
       "      <td>157.0</td>\n",
       "      <td>2146</td>\n",
       "      <td>0.073159</td>\n",
       "    </tr>\n",
       "    <tr>\n",
       "      <th>2017</th>\n",
       "      <td>435.0</td>\n",
       "      <td>2957</td>\n",
       "      <td>0.147109</td>\n",
       "    </tr>\n",
       "    <tr>\n",
       "      <th>2018</th>\n",
       "      <td>1053.0</td>\n",
       "      <td>5475</td>\n",
       "      <td>0.192329</td>\n",
       "    </tr>\n",
       "    <tr>\n",
       "      <th>2019</th>\n",
       "      <td>1544.0</td>\n",
       "      <td>8810</td>\n",
       "      <td>0.175255</td>\n",
       "    </tr>\n",
       "    <tr>\n",
       "      <th>2020</th>\n",
       "      <td>86.0</td>\n",
       "      <td>459</td>\n",
       "      <td>0.187364</td>\n",
       "    </tr>\n",
       "  </tbody>\n",
       "</table>\n",
       "</div>"
      ],
      "text/plain": [
       "      DeepLearningQuestions  TotalQuestions  DeepLearningRate\n",
       "Year                                                         \n",
       "2014                    8.0             562          0.014235\n",
       "2015                   30.0            1167          0.025707\n",
       "2016                  157.0            2146          0.073159\n",
       "2017                  435.0            2957          0.147109\n",
       "2018                 1053.0            5475          0.192329\n",
       "2019                 1544.0            8810          0.175255\n",
       "2020                   86.0             459          0.187364"
      ]
     },
     "execution_count": 48,
     "metadata": {},
     "output_type": "execute_result"
    }
   ],
   "source": [
    "tps_year = all_quests.groupby('Year').agg({\"Deep Learning\": ['sum', 'size']})\n",
    "#Creates a single level column header instead of double as was in case of agg function\n",
    "tps_year.columns = ['DeepLearningQuestions', 'TotalQuestions']\n",
    "tps_year[\"DeepLearningRate\"] = tps_year[\"DeepLearningQuestions\"]\\\n",
    "                                /tps_year[\"TotalQuestions\"]\n",
    "tps_year"
   ]
  },
  {
   "cell_type": "code",
   "execution_count": 47,
   "metadata": {
    "collapsed": false,
    "scrolled": true
   },
   "outputs": [
    {
     "data": {
      "text/html": [
       "<div>\n",
       "<style scoped>\n",
       "    .dataframe tbody tr th:only-of-type {\n",
       "        vertical-align: middle;\n",
       "    }\n",
       "\n",
       "    .dataframe tbody tr th {\n",
       "        vertical-align: top;\n",
       "    }\n",
       "\n",
       "    .dataframe thead th {\n",
       "        text-align: right;\n",
       "    }\n",
       "</style>\n",
       "<table border=\"1\" class=\"dataframe\">\n",
       "  <thead>\n",
       "    <tr style=\"text-align: right;\">\n",
       "      <th></th>\n",
       "      <th></th>\n",
       "      <th>DeepLearningQuestions</th>\n",
       "      <th>TotalQuestions</th>\n",
       "      <th>DeepLearningRate</th>\n",
       "    </tr>\n",
       "    <tr>\n",
       "      <th>Year</th>\n",
       "      <th>Quarter</th>\n",
       "      <th></th>\n",
       "      <th></th>\n",
       "      <th></th>\n",
       "    </tr>\n",
       "  </thead>\n",
       "  <tbody>\n",
       "    <tr>\n",
       "      <th rowspan=\"3\" valign=\"top\">2014</th>\n",
       "      <th>2</th>\n",
       "      <td>1.0</td>\n",
       "      <td>157</td>\n",
       "      <td>0.006369</td>\n",
       "    </tr>\n",
       "    <tr>\n",
       "      <th>3</th>\n",
       "      <td>1.0</td>\n",
       "      <td>189</td>\n",
       "      <td>0.005291</td>\n",
       "    </tr>\n",
       "    <tr>\n",
       "      <th>4</th>\n",
       "      <td>6.0</td>\n",
       "      <td>216</td>\n",
       "      <td>0.027778</td>\n",
       "    </tr>\n",
       "    <tr>\n",
       "      <th rowspan=\"4\" valign=\"top\">2015</th>\n",
       "      <th>1</th>\n",
       "      <td>3.0</td>\n",
       "      <td>190</td>\n",
       "      <td>0.015789</td>\n",
       "    </tr>\n",
       "    <tr>\n",
       "      <th>2</th>\n",
       "      <td>7.0</td>\n",
       "      <td>284</td>\n",
       "      <td>0.024648</td>\n",
       "    </tr>\n",
       "    <tr>\n",
       "      <th>3</th>\n",
       "      <td>8.0</td>\n",
       "      <td>311</td>\n",
       "      <td>0.025723</td>\n",
       "    </tr>\n",
       "    <tr>\n",
       "      <th>4</th>\n",
       "      <td>12.0</td>\n",
       "      <td>382</td>\n",
       "      <td>0.031414</td>\n",
       "    </tr>\n",
       "    <tr>\n",
       "      <th rowspan=\"4\" valign=\"top\">2016</th>\n",
       "      <th>1</th>\n",
       "      <td>27.0</td>\n",
       "      <td>516</td>\n",
       "      <td>0.052326</td>\n",
       "    </tr>\n",
       "    <tr>\n",
       "      <th>2</th>\n",
       "      <td>36.0</td>\n",
       "      <td>518</td>\n",
       "      <td>0.069498</td>\n",
       "    </tr>\n",
       "    <tr>\n",
       "      <th>3</th>\n",
       "      <td>47.0</td>\n",
       "      <td>585</td>\n",
       "      <td>0.080342</td>\n",
       "    </tr>\n",
       "    <tr>\n",
       "      <th>4</th>\n",
       "      <td>47.0</td>\n",
       "      <td>527</td>\n",
       "      <td>0.089184</td>\n",
       "    </tr>\n",
       "    <tr>\n",
       "      <th rowspan=\"4\" valign=\"top\">2017</th>\n",
       "      <th>1</th>\n",
       "      <td>95.0</td>\n",
       "      <td>698</td>\n",
       "      <td>0.136103</td>\n",
       "    </tr>\n",
       "    <tr>\n",
       "      <th>2</th>\n",
       "      <td>73.0</td>\n",
       "      <td>647</td>\n",
       "      <td>0.112828</td>\n",
       "    </tr>\n",
       "    <tr>\n",
       "      <th>3</th>\n",
       "      <td>103.0</td>\n",
       "      <td>714</td>\n",
       "      <td>0.144258</td>\n",
       "    </tr>\n",
       "    <tr>\n",
       "      <th>4</th>\n",
       "      <td>164.0</td>\n",
       "      <td>898</td>\n",
       "      <td>0.182628</td>\n",
       "    </tr>\n",
       "    <tr>\n",
       "      <th rowspan=\"4\" valign=\"top\">2018</th>\n",
       "      <th>1</th>\n",
       "      <td>247.0</td>\n",
       "      <td>1221</td>\n",
       "      <td>0.202293</td>\n",
       "    </tr>\n",
       "    <tr>\n",
       "      <th>2</th>\n",
       "      <td>268.0</td>\n",
       "      <td>1448</td>\n",
       "      <td>0.185083</td>\n",
       "    </tr>\n",
       "    <tr>\n",
       "      <th>3</th>\n",
       "      <td>318.0</td>\n",
       "      <td>1512</td>\n",
       "      <td>0.210317</td>\n",
       "    </tr>\n",
       "    <tr>\n",
       "      <th>4</th>\n",
       "      <td>220.0</td>\n",
       "      <td>1294</td>\n",
       "      <td>0.170015</td>\n",
       "    </tr>\n",
       "    <tr>\n",
       "      <th rowspan=\"4\" valign=\"top\">2019</th>\n",
       "      <th>1</th>\n",
       "      <td>340.0</td>\n",
       "      <td>1987</td>\n",
       "      <td>0.171112</td>\n",
       "    </tr>\n",
       "    <tr>\n",
       "      <th>2</th>\n",
       "      <td>415.0</td>\n",
       "      <td>2393</td>\n",
       "      <td>0.173422</td>\n",
       "    </tr>\n",
       "    <tr>\n",
       "      <th>3</th>\n",
       "      <td>424.0</td>\n",
       "      <td>2394</td>\n",
       "      <td>0.177109</td>\n",
       "    </tr>\n",
       "    <tr>\n",
       "      <th>4</th>\n",
       "      <td>365.0</td>\n",
       "      <td>2036</td>\n",
       "      <td>0.179273</td>\n",
       "    </tr>\n",
       "    <tr>\n",
       "      <th>2020</th>\n",
       "      <th>1</th>\n",
       "      <td>86.0</td>\n",
       "      <td>459</td>\n",
       "      <td>0.187364</td>\n",
       "    </tr>\n",
       "  </tbody>\n",
       "</table>\n",
       "</div>"
      ],
      "text/plain": [
       "              DeepLearningQuestions  TotalQuestions  DeepLearningRate\n",
       "Year Quarter                                                         \n",
       "2014 2                          1.0             157          0.006369\n",
       "     3                          1.0             189          0.005291\n",
       "     4                          6.0             216          0.027778\n",
       "2015 1                          3.0             190          0.015789\n",
       "     2                          7.0             284          0.024648\n",
       "     3                          8.0             311          0.025723\n",
       "     4                         12.0             382          0.031414\n",
       "2016 1                         27.0             516          0.052326\n",
       "     2                         36.0             518          0.069498\n",
       "     3                         47.0             585          0.080342\n",
       "     4                         47.0             527          0.089184\n",
       "2017 1                         95.0             698          0.136103\n",
       "     2                         73.0             647          0.112828\n",
       "     3                        103.0             714          0.144258\n",
       "     4                        164.0             898          0.182628\n",
       "2018 1                        247.0            1221          0.202293\n",
       "     2                        268.0            1448          0.185083\n",
       "     3                        318.0            1512          0.210317\n",
       "     4                        220.0            1294          0.170015\n",
       "2019 1                        340.0            1987          0.171112\n",
       "     2                        415.0            2393          0.173422\n",
       "     3                        424.0            2394          0.177109\n",
       "     4                        365.0            2036          0.179273\n",
       "2020 1                         86.0             459          0.187364"
      ]
     },
     "execution_count": 47,
     "metadata": {},
     "output_type": "execute_result"
    }
   ],
   "source": [
    "tps_qy = all_quests.groupby(['Year', 'Quarter']).agg({\"Deep Learning\": ['sum', 'size']})\n",
    "tps_qy.columns = ['DeepLearningQuestions', 'TotalQuestions']\n",
    "tps_qy[\"DeepLearningRate\"] = tps_qy[\"DeepLearningQuestions\"]\\\n",
    "                                /tps_qy[\"TotalQuestions\"]\n",
    "tps_qy"
   ]
  },
  {
   "cell_type": "markdown",
   "metadata": {},
   "source": [
    "Interest in deep learning increased from 0.6% in 2014 to 17.9% by the last quarter of 2019. As interest in this sector of data science is becoming increasingly popular, we should write more about deep learning."
   ]
  },
  {
   "cell_type": "code",
   "execution_count": null,
   "metadata": {
    "collapsed": true
   },
   "outputs": [],
   "source": []
  }
 ],
 "metadata": {
  "kernelspec": {
   "display_name": "Python 3",
   "language": "python",
   "name": "python3"
  },
  "language_info": {
   "codemirror_mode": {
    "name": "ipython",
    "version": 3
   },
   "file_extension": ".py",
   "mimetype": "text/x-python",
   "name": "python",
   "nbconvert_exporter": "python",
   "pygments_lexer": "ipython3",
   "version": "3.4.3"
  }
 },
 "nbformat": 4,
 "nbformat_minor": 2
}
